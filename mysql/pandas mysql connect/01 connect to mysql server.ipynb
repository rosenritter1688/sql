{
 "cells": [
  {
   "cell_type": "code",
   "execution_count": 12,
   "metadata": {},
   "outputs": [
    {
     "name": "stdout",
     "output_type": "stream",
     "text": [
      "     name  age\n",
      "0  unknow    0\n"
     ]
    },
    {
     "name": "stderr",
     "output_type": "stream",
     "text": [
      "C:\\Users\\Bruce Ashbee\\AppData\\Local\\Temp\\ipykernel_18656\\943666644.py:15: UserWarning: pandas only supports SQLAlchemy connectable (engine/connection) or database string URI or sqlite3 DBAPI2 connection. Other DBAPI2 objects are not tested. Please consider using SQLAlchemy.\n",
      "  result_dataFrame = pd.read_sql(query,mydb)\n"
     ]
    }
   ],
   "source": [
    "import mysql.connector as connection\n",
    "import pandas as pd\n",
    "try:\n",
    "    mydb = connection.connect(\n",
    "        host=\"localhost\", \n",
    "        database = 'sql_p',\n",
    "        user=\"root\", \n",
    "        auth_plugin='mysql_native_password',\n",
    "        passwd=\"Zs8271911c\",\n",
    "        use_pure=True) # use_pure=False (to use C implementation) or \n",
    "                       # use_pure=True (to use the Python implementation) as an argument to mysql.connector.connect(). \n",
    "    query = \"\"\"\n",
    "            Select * from cats;\n",
    "            \"\"\"\n",
    "    result_dataFrame = pd.read_sql(query,mydb)\n",
    "    print(result_dataFrame)\n",
    "    mydb.close() #close the connectionexcept Exception as e:\n",
    "\n",
    "except Exception as e:\n",
    "    mydb.close()\n",
    "    print(str(e))\n",
    "\n"
   ]
  },
  {
   "cell_type": "code",
   "execution_count": 14,
   "metadata": {},
   "outputs": [
    {
     "name": "stdout",
     "output_type": "stream",
     "text": [
      "name 'connector' is not defined\n"
     ]
    }
   ],
   "source": [
    "import mysql.connector as mysql_connector\n",
    "import pandas as pd\n",
    "try:\n",
    "    mydb = mysql_connector.connect(\n",
    "        host=\"localhost\", \n",
    "        database = 'sql_p',\n",
    "        user=\"root\", \n",
    "        auth_plugin='mysql_native_password',\n",
    "        passwd=\"Zs8271911c\",\n",
    "        use_pure=True) # use_pure=False (to use C implementation) or \n",
    "                       # use_pure=True (to use the Python implementation) as an argument to mysql.connector.connect(). \n",
    "    query = \"\"\"\n",
    "            Select * from cats;\n",
    "            \"\"\"\n",
    "    result_dataFrame = pd.read_sql(query,mydb)\n",
    "    print(result_dataFrame)\n",
    "    mydb.close() #close the connectionexcept Exception as e:\n",
    "\n",
    "except Exception as e:\n",
    "    mydb.close()\n",
    "    print(str(e))\n",
    "\n"
   ]
  }
 ],
 "metadata": {
  "kernelspec": {
   "display_name": "Python 3",
   "language": "python",
   "name": "python3"
  },
  "language_info": {
   "codemirror_mode": {
    "name": "ipython",
    "version": 3
   },
   "file_extension": ".py",
   "mimetype": "text/x-python",
   "name": "python",
   "nbconvert_exporter": "python",
   "pygments_lexer": "ipython3",
   "version": "3.11.4"
  },
  "orig_nbformat": 4
 },
 "nbformat": 4,
 "nbformat_minor": 2
}
