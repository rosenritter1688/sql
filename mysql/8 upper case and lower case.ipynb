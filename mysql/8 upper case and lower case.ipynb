{
 "cells": [
  {
   "cell_type": "code",
   "execution_count": 3,
   "metadata": {},
   "outputs": [
    {
     "name": "stdout",
     "output_type": "stream",
     "text": [
      "<mysql.connector.connection.MySQLConnection object at 0x7f85f47128f0>\n"
     ]
    }
   ],
   "source": [
    "import mysql.connector as sql\n",
    "import pandas as pd\n",
    "\n",
    "# auth_plugin is needed, can check by commends \n",
    "# SELECT user,authentication_string,plugin,host FROM mysql.user;\n",
    "# check the columns plugin and user\n",
    "\n",
    "mydb = sql.connect (\n",
    "    host = \"localhost\",\n",
    "    user = \"root\",\n",
    "    password = \"ZAQs8271911c$\",\n",
    "    auth_plugin='mysql_native_password',\n",
    "    database = \"sql_intro\",\n",
    "    buffered = True             # Unread result found issue\n",
    ")                                              # if using pandas no need to use buffer\n",
    "\n",
    "print(mydb)\n"
   ]
  },
  {
   "cell_type": "markdown",
   "metadata": {},
   "source": [
    "# upper()"
   ]
  },
  {
   "cell_type": "code",
   "execution_count": 4,
   "metadata": {},
   "outputs": [
    {
     "name": "stderr",
     "output_type": "stream",
     "text": [
      "/home/bruce/.local/lib/python3.10/site-packages/pandas/io/sql.py:761: UserWarning: pandas only support SQLAlchemy connectable(engine/connection) ordatabase string URI or sqlite3 DBAPI2 connectionother DBAPI2 objects are not tested, please consider using SQLAlchemy\n",
      "  warnings.warn(\n"
     ]
    },
    {
     "data": {
      "text/html": [
       "<div>\n",
       "<style scoped>\n",
       "    .dataframe tbody tr th:only-of-type {\n",
       "        vertical-align: middle;\n",
       "    }\n",
       "\n",
       "    .dataframe tbody tr th {\n",
       "        vertical-align: top;\n",
       "    }\n",
       "\n",
       "    .dataframe thead th {\n",
       "        text-align: right;\n",
       "    }\n",
       "</style>\n",
       "<table border=\"1\" class=\"dataframe\">\n",
       "  <thead>\n",
       "    <tr style=\"text-align: right;\">\n",
       "      <th></th>\n",
       "      <th>product_id</th>\n",
       "      <th>sell_price</th>\n",
       "      <th>qty</th>\n",
       "      <th>upper(state)</th>\n",
       "    </tr>\n",
       "  </thead>\n",
       "  <tbody>\n",
       "    <tr>\n",
       "      <th>0</th>\n",
       "      <td>121</td>\n",
       "      <td>320.0</td>\n",
       "      <td>3</td>\n",
       "      <td>CALIFORNIA</td>\n",
       "    </tr>\n",
       "    <tr>\n",
       "      <th>1</th>\n",
       "      <td>121</td>\n",
       "      <td>320.0</td>\n",
       "      <td>6</td>\n",
       "      <td>TAXAS</td>\n",
       "    </tr>\n",
       "    <tr>\n",
       "      <th>2</th>\n",
       "      <td>121</td>\n",
       "      <td>320.0</td>\n",
       "      <td>4</td>\n",
       "      <td>ALASKA</td>\n",
       "    </tr>\n",
       "    <tr>\n",
       "      <th>3</th>\n",
       "      <td>123</td>\n",
       "      <td>290.0</td>\n",
       "      <td>2</td>\n",
       "      <td>TAXAS</td>\n",
       "    </tr>\n",
       "    <tr>\n",
       "      <th>4</th>\n",
       "      <td>123</td>\n",
       "      <td>290.0</td>\n",
       "      <td>7</td>\n",
       "      <td>CALIFORNIA</td>\n",
       "    </tr>\n",
       "    <tr>\n",
       "      <th>5</th>\n",
       "      <td>123</td>\n",
       "      <td>290.0</td>\n",
       "      <td>4</td>\n",
       "      <td>WASHINGTON</td>\n",
       "    </tr>\n",
       "    <tr>\n",
       "      <th>6</th>\n",
       "      <td>121</td>\n",
       "      <td>320.0</td>\n",
       "      <td>7</td>\n",
       "      <td>OHIO</td>\n",
       "    </tr>\n",
       "    <tr>\n",
       "      <th>7</th>\n",
       "      <td>121</td>\n",
       "      <td>320.0</td>\n",
       "      <td>2</td>\n",
       "      <td>ARIZONA</td>\n",
       "    </tr>\n",
       "    <tr>\n",
       "      <th>8</th>\n",
       "      <td>123</td>\n",
       "      <td>290.0</td>\n",
       "      <td>8</td>\n",
       "      <td>COLORADO</td>\n",
       "    </tr>\n",
       "  </tbody>\n",
       "</table>\n",
       "</div>"
      ],
      "text/plain": [
       "   product_id  sell_price  qty upper(state)\n",
       "0         121       320.0    3   CALIFORNIA\n",
       "1         121       320.0    6        TAXAS\n",
       "2         121       320.0    4       ALASKA\n",
       "3         123       290.0    2        TAXAS\n",
       "4         123       290.0    7   CALIFORNIA\n",
       "5         123       290.0    4   WASHINGTON\n",
       "6         121       320.0    7         OHIO\n",
       "7         121       320.0    2      ARIZONA\n",
       "8         123       290.0    8     COLORADO"
      ]
     },
     "execution_count": 4,
     "metadata": {},
     "output_type": "execute_result"
    }
   ],
   "source": [
    "# \n",
    "\"\"\"sales table\n",
    "\tproduct_id\tsell_price\tqty\t  state\n",
    "0\t121\t                320.0\t        3\tcalifornia\n",
    "1\t121\t                320.0\t        6\ttaxas\n",
    "2\t121\t                320.0\t        4\talaska\n",
    "3\t123\t                290.0\t        2\ttaxas\n",
    "4\t123             \t290.0\t        7\tcalifornia\n",
    "5\t123\t                290.0\t        4\twashington\n",
    "6\t121\t                320.0\t        7\tohio\n",
    "7\t121\t                320.0\t        2\tArizona\n",
    "8\t123\t                290.0\t        8\tcolorado\n",
    "\"\"\"\n",
    "\n",
    "\n",
    "sql_query = \"\"\"\n",
    "SELECT product_id , sell_price, qty, upper(state)\n",
    "FROM sales;\n",
    "\"\"\"\n",
    "\n",
    "df = pd.read_sql_query(\n",
    "    sql_query,\n",
    "    mydb)\n",
    "df"
   ]
  },
  {
   "cell_type": "markdown",
   "metadata": {},
   "source": [
    "# lower()"
   ]
  },
  {
   "cell_type": "code",
   "execution_count": 5,
   "metadata": {},
   "outputs": [
    {
     "name": "stderr",
     "output_type": "stream",
     "text": [
      "/home/bruce/.local/lib/python3.10/site-packages/pandas/io/sql.py:761: UserWarning: pandas only support SQLAlchemy connectable(engine/connection) ordatabase string URI or sqlite3 DBAPI2 connectionother DBAPI2 objects are not tested, please consider using SQLAlchemy\n",
      "  warnings.warn(\n"
     ]
    },
    {
     "data": {
      "text/html": [
       "<div>\n",
       "<style scoped>\n",
       "    .dataframe tbody tr th:only-of-type {\n",
       "        vertical-align: middle;\n",
       "    }\n",
       "\n",
       "    .dataframe tbody tr th {\n",
       "        vertical-align: top;\n",
       "    }\n",
       "\n",
       "    .dataframe thead th {\n",
       "        text-align: right;\n",
       "    }\n",
       "</style>\n",
       "<table border=\"1\" class=\"dataframe\">\n",
       "  <thead>\n",
       "    <tr style=\"text-align: right;\">\n",
       "      <th></th>\n",
       "      <th>lower(\"TAIWAN\")</th>\n",
       "    </tr>\n",
       "  </thead>\n",
       "  <tbody>\n",
       "    <tr>\n",
       "      <th>0</th>\n",
       "      <td>taiwan</td>\n",
       "    </tr>\n",
       "  </tbody>\n",
       "</table>\n",
       "</div>"
      ],
      "text/plain": [
       "  lower(\"TAIWAN\")\n",
       "0          taiwan"
      ]
     },
     "execution_count": 5,
     "metadata": {},
     "output_type": "execute_result"
    }
   ],
   "source": [
    "sql_query = \"\"\"\n",
    "SELECT lower(\"TAIWAN\");\n",
    "\"\"\"\n",
    "\n",
    "df = pd.read_sql_query(\n",
    "    sql_query,\n",
    "    mydb)\n",
    "df"
   ]
  }
 ],
 "metadata": {
  "kernelspec": {
   "display_name": "Python 3.10.4 64-bit",
   "language": "python",
   "name": "python3"
  },
  "language_info": {
   "codemirror_mode": {
    "name": "ipython",
    "version": 3
   },
   "file_extension": ".py",
   "mimetype": "text/x-python",
   "name": "python",
   "nbconvert_exporter": "python",
   "pygments_lexer": "ipython3",
   "version": "3.10.4"
  },
  "orig_nbformat": 4,
  "vscode": {
   "interpreter": {
    "hash": "916dbcbb3f70747c44a77c7bcd40155683ae19c65e1c03b4aa3499c5328201f1"
   }
  }
 },
 "nbformat": 4,
 "nbformat_minor": 2
}
