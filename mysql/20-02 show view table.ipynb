{
 "cells": [
  {
   "attachments": {},
   "cell_type": "markdown",
   "metadata": {},
   "source": [
    "# show views wont work\n",
    "`\n",
    "show full tables in database_name where table_type like 'VIEW'\n",
    "`\n",
    "#### view must use uppercase"
   ]
  },
  {
   "cell_type": "code",
   "execution_count": 11,
   "metadata": {},
   "outputs": [
    {
     "name": "stderr",
     "output_type": "stream",
     "text": [
      "C:\\Users\\Bruce Ashbee\\AppData\\Local\\Temp\\ipykernel_35136\\4244011823.py:17: UserWarning: pandas only supports SQLAlchemy connectable (engine/connection) or database string URI or sqlite3 DBAPI2 connection. Other DBAPI2 objects are not tested. Please consider using SQLAlchemy.\n",
      "  content_pandas = pd.read_sql_query(\n"
     ]
    },
    {
     "data": {
      "text/html": [
       "<div>\n",
       "<style scoped>\n",
       "    .dataframe tbody tr th:only-of-type {\n",
       "        vertical-align: middle;\n",
       "    }\n",
       "\n",
       "    .dataframe tbody tr th {\n",
       "        vertical-align: top;\n",
       "    }\n",
       "\n",
       "    .dataframe thead th {\n",
       "        text-align: right;\n",
       "    }\n",
       "</style>\n",
       "<table border=\"1\" class=\"dataframe\">\n",
       "  <thead>\n",
       "    <tr style=\"text-align: right;\">\n",
       "      <th></th>\n",
       "      <th>Tables_in_sql_fr_ai</th>\n",
       "      <th>Table_type</th>\n",
       "    </tr>\n",
       "  </thead>\n",
       "  <tbody>\n",
       "  </tbody>\n",
       "</table>\n",
       "</div>"
      ],
      "text/plain": [
       "Empty DataFrame\n",
       "Columns: [Tables_in_sql_fr_ai, Table_type]\n",
       "Index: []"
      ]
     },
     "execution_count": 11,
     "metadata": {},
     "output_type": "execute_result"
    }
   ],
   "source": [
    "import mysql.connector as mysql_connector \n",
    "import pandas as pd\n",
    "\n",
    "mydb = mysql_connector.connect(\n",
    "    host = \"localhost\",\n",
    "    user = \"root\",\n",
    "    password = \"19821205\",\n",
    "    auth_plugin = \"mysql_native_password\",\n",
    "    buffered = True,\n",
    "    database = \"sql_fr_ai\"\n",
    ")\n",
    "sql_query = \"\"\"\n",
    "SHOW FULL TABLES IN sql_fr_ai WHERE TABLE_TYPE LIKE 'VIEW';\n",
    "\n",
    "\"\"\"\n",
    "\n",
    "content_pandas = pd.read_sql_query(\n",
    "    sql_query,\n",
    "    mydb\n",
    ")\n",
    "\n",
    "content_pandas\n",
    "\n"
   ]
  }
 ],
 "metadata": {
  "kernelspec": {
   "display_name": "Python 3",
   "language": "python",
   "name": "python3"
  },
  "language_info": {
   "codemirror_mode": {
    "name": "ipython",
    "version": 3
   },
   "file_extension": ".py",
   "mimetype": "text/x-python",
   "name": "python",
   "nbconvert_exporter": "python",
   "pygments_lexer": "ipython3",
   "version": "3.10.7"
  },
  "orig_nbformat": 4,
  "vscode": {
   "interpreter": {
    "hash": "3e748360335f2bf9c5c12ffe143cd93812385ddcb6c3d461a4ee3fa3233acffe"
   }
  }
 },
 "nbformat": 4,
 "nbformat_minor": 2
}
