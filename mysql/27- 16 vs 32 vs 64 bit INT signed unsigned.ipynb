{
 "cells": [
  {
   "cell_type": "markdown",
   "metadata": {},
   "source": [
    "# Unsigned Variable Type of Integer\n",
    "### An unsigned variable type of int can hold zero and positive numbers\n",
    "### A signed int holds negative, zero and positive numbers."
   ]
  },
  {
   "cell_type": "markdown",
   "metadata": {},
   "source": [
    "# A 16 bit Signed Integer can house a number from \n",
    "#### −32,768 to 32,767 \n",
    "#### Unsigned: 0 to 65,535.\n",
    "\n",
    "# A 32 bit Signed Integer can house a number from \n",
    "#### −2,147,483,648 to 2,147,483,647 \n",
    "#### Unsigned: 0 to 4,294,967,295.\n",
    "\n",
    "# A 64 bit Signed Integer can house a number from \n",
    "#### −9,223,372,036,854,775,808 to 9,223,372,036,854,775,807 \n",
    "#### Unsigned: 0 to 18,446,744,073,709,551,615."
   ]
  },
  {
   "cell_type": "code",
   "execution_count": 1,
   "metadata": {},
   "outputs": [],
   "source": []
  }
 ],
 "metadata": {
  "kernelspec": {
   "display_name": "Python 3.8.10 64-bit",
   "language": "python",
   "name": "python3"
  },
  "language_info": {
   "codemirror_mode": {
    "name": "ipython",
    "version": 3
   },
   "file_extension": ".py",
   "mimetype": "text/x-python",
   "name": "python",
   "nbconvert_exporter": "python",
   "pygments_lexer": "ipython3",
   "version": "3.8.10"
  },
  "orig_nbformat": 4,
  "vscode": {
   "interpreter": {
    "hash": "916dbcbb3f70747c44a77c7bcd40155683ae19c65e1c03b4aa3499c5328201f1"
   }
  }
 },
 "nbformat": 4,
 "nbformat_minor": 2
}
