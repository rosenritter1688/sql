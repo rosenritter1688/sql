{
 "cells": [
  {
   "cell_type": "code",
   "execution_count": null,
   "metadata": {},
   "outputs": [],
   "source": [
    "create table if not exists holiday_master_hsuan(\n",
    "Date_YMD date,\n",
    "PublicHoliday varcharacter(60)\n",
    ");"
   ]
  },
  {
   "cell_type": "code",
   "execution_count": null,
   "metadata": {},
   "outputs": [],
   "source": [
    "#for mysql and set utf8\n",
    "create table if not exists sql_fr_ai.holiday_master_hsuan(\n",
    "Date_YMD date PRIMARY KEY,\n",
    "Public_Holiday varchar(60)\n",
    ") CHARACTER SET utf8mb4 COLLATE utf8mb4_0900_ai_ci;"
   ]
  }
 ],
 "metadata": {
  "kernelspec": {
   "display_name": "Python 3",
   "language": "python",
   "name": "python3"
  },
  "language_info": {
   "name": "python",
   "version": "3.10.7"
  },
  "orig_nbformat": 4,
  "vscode": {
   "interpreter": {
    "hash": "3e748360335f2bf9c5c12ffe143cd93812385ddcb6c3d461a4ee3fa3233acffe"
   }
  }
 },
 "nbformat": 4,
 "nbformat_minor": 2
}
