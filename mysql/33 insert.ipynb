{
 "cells": [
  {
   "cell_type": "markdown",
   "metadata": {},
   "source": [
    "# Mysql\n",
    "```\n",
    "insert into holiday_master2\n",
    "(Date_YMD,Public_Holiday)\n",
    "VALUES\n",
    "(\"2021-01-01\",\"New Year's Day\"),\n",
    "(\"2021-01-15\",\"Adult Day\");\n",
    "```"
   ]
  },
  {
   "cell_type": "markdown",
   "metadata": {},
   "source": [
    "# Bigquery\n",
    "\n",
    "```\n",
    "\n",
    "INSERT \n",
    "      `TW14_N10.holiday_master2`\n",
    "      (date_ymd,public_holiday)\n",
    "VALUES\n",
    "      (\"2021-01-01\",\"NEW YEAR'S DAY\"),\n",
    "      (\"2021-01-15\",\"ADULT DAY\")\n",
    "```\n",
    "\n"
   ]
  }
 ],
 "metadata": {
  "kernelspec": {
   "display_name": "Python 3.8.10 64-bit",
   "language": "python",
   "name": "python3"
  },
  "language_info": {
   "codemirror_mode": {
    "name": "ipython",
    "version": 3
   },
   "file_extension": ".py",
   "mimetype": "text/x-python",
   "name": "python",
   "nbconvert_exporter": "python",
   "pygments_lexer": "ipython3",
   "version": "3.8.10"
  },
  "orig_nbformat": 4,
  "vscode": {
   "interpreter": {
    "hash": "916dbcbb3f70747c44a77c7bcd40155683ae19c65e1c03b4aa3499c5328201f1"
   }
  }
 },
 "nbformat": 4,
 "nbformat_minor": 2
}
