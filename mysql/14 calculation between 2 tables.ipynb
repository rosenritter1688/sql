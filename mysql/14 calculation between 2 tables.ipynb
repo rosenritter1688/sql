{
 "cells": [
  {
   "cell_type": "code",
   "execution_count": 10,
   "metadata": {},
   "outputs": [
    {
     "name": "stdout",
     "output_type": "stream",
     "text": [
      "<mysql.connector.connection.MySQLConnection object at 0x7fbfd183d9f0>\n"
     ]
    }
   ],
   "source": [
    "import mysql.connector as sql\n",
    "import pandas as pd\n",
    "\n",
    "mydb = sql.connect (\n",
    "    host = \"localhost\",\n",
    "    user = \"root\",\n",
    "    password = \"ZAQs8271911c$\",\n",
    "    auth_plugin='mysql_native_password',\n",
    "    buffered = True,        # using this for reading table, panda dont need it\n",
    "    database = \"sql_intro\"\n",
    ")\n",
    "\n",
    "# auth_plugin is needed, can check by commends \n",
    "# SELECT user,authentication_string,plugin,host FROM mysql.user;\n",
    "# check the columns plugin and user\n",
    "\n",
    "\n",
    "print(mydb)\n"
   ]
  },
  {
   "cell_type": "code",
   "execution_count": 12,
   "metadata": {},
   "outputs": [
    {
     "name": "stderr",
     "output_type": "stream",
     "text": [
      "/home/bruce/.local/lib/python3.10/site-packages/pandas/io/sql.py:761: UserWarning: pandas only support SQLAlchemy connectable(engine/connection) ordatabase string URI or sqlite3 DBAPI2 connectionother DBAPI2 objects are not tested, please consider using SQLAlchemy\n",
      "  warnings.warn(\n"
     ]
    },
    {
     "data": {
      "text/html": [
       "<div>\n",
       "<style scoped>\n",
       "    .dataframe tbody tr th:only-of-type {\n",
       "        vertical-align: middle;\n",
       "    }\n",
       "\n",
       "    .dataframe tbody tr th {\n",
       "        vertical-align: top;\n",
       "    }\n",
       "\n",
       "    .dataframe thead th {\n",
       "        text-align: right;\n",
       "    }\n",
       "</style>\n",
       "<table border=\"1\" class=\"dataframe\">\n",
       "  <thead>\n",
       "    <tr style=\"text-align: right;\">\n",
       "      <th></th>\n",
       "      <th>product_id</th>\n",
       "      <th>revenue</th>\n",
       "    </tr>\n",
       "  </thead>\n",
       "  <tbody>\n",
       "    <tr>\n",
       "      <th>0</th>\n",
       "      <td>121</td>\n",
       "      <td>1100.0</td>\n",
       "    </tr>\n",
       "    <tr>\n",
       "      <th>1</th>\n",
       "      <td>123</td>\n",
       "      <td>840.0</td>\n",
       "    </tr>\n",
       "  </tbody>\n",
       "</table>\n",
       "</div>"
      ],
      "text/plain": [
       "   product_id  revenue\n",
       "0         121   1100.0\n",
       "1         123    840.0"
      ]
     },
     "execution_count": 12,
     "metadata": {},
     "output_type": "execute_result"
    }
   ],
   "source": [
    "\n",
    "# 營收(Revenue)，或稱為營業額\n",
    "# 比方說，某咖啡店當天賣了100杯咖啡，每杯150元，\n",
    "# 當天的營收就記為150*100=15000元。\n",
    "#! calcute revenue through sales table and c_product table\n",
    "# sales table\n",
    "#     product_id\tsell_price\t qty\t    state\n",
    "# 0\t121\t                320.0\t        3\tcalifornia\n",
    "# 1\t121\t                320.0\t        6\ttaxas\n",
    "# 2\t121\t                320.0\t        4\talaska\n",
    "# 3\t123\t                290.0\t        2\ttaxas\n",
    "# 4\t123\t                290.0\t        7\tcalifornia\n",
    "# 5\t123\t                290.0\t        4\twashington\n",
    "# 6\t121\t                320.0\t        7\tohio\n",
    "# 7\t121\t                320.0\t        2\tArizona\n",
    "# 8\t123\t                290.0\t        8\tcolorado\n",
    "\n",
    "\n",
    "# c_product table   for cost\n",
    "# \tproduct_id\tcost_price\n",
    "# 0\t121\t                270.0\n",
    "# 1\t123\t                250.0\n",
    "\n",
    "sql_query = \"\"\"\n",
    "\n",
    "SELECT s.product_id , sum( (s.sell_price - c.cost_price ) * s.qty ) AS revenue\n",
    "FROM sales AS s\n",
    "INNER JOIN c_product as c\n",
    "ON s.product_id = c.product_id\n",
    "GROUP BY product_id;\n",
    "\"\"\"\n",
    "\n",
    "pd_content = pd.read_sql_query(\n",
    "    sql_query,\n",
    "    mydb\n",
    ")\n",
    "pd_content"
   ]
  },
  {
   "cell_type": "code",
   "execution_count": null,
   "metadata": {},
   "outputs": [],
   "source": [
    "# create table sales (\n",
    "#     product_id int,\n",
    "#     sell_price float,\n",
    "#     qty int,\n",
    "#     state VARCHAR(20)\n",
    "# )\n",
    "\n",
    "\n",
    "# show databases;\n",
    "\n",
    "# use sql_intro;\n",
    "# show tables;\n",
    "# describe sales;\n",
    "# 'product_id', 'int', 'YES', '', NULL, ''\n",
    "# 'sell_price', 'float', 'YES', '', NULL, ''\n",
    "# 'qty', 'int', 'YES', '', NULL, ''\n",
    "# 'state', 'varchar(20)', 'YES', '', NULL, ''\n",
    "\n",
    "# insert into sales values \n",
    "# (121,320.0,3,\"california\"),\n",
    "# (121,320.0,6,\"taxas\"),\n",
    "# (121,320.0,4,\"alaska\"),\n",
    "# (123,290.0,2,\"taxas\"),\n",
    "# (123,290.0,7,\"california\"),\n",
    "# (123,290.0,4,\"washington\"),\n",
    "# (121,320.0,7,\"ohio\"),\n",
    "# (121,320.0,2,\"Arizona\"),\n",
    "# (123,290.0,8,\"colorado\");\n",
    "\n",
    "# select * from sales;\n",
    "\n",
    "\n",
    "# create c_product (\n",
    "# product_id int,\n",
    "# cost_price float)\n",
    "\n",
    "\n",
    "# insert into c_product\n",
    "# values(121,270),\n",
    "# \t  (123,250);"
   ]
  }
 ],
 "metadata": {
  "kernelspec": {
   "display_name": "Python 3.10.4 64-bit",
   "language": "python",
   "name": "python3"
  },
  "language_info": {
   "codemirror_mode": {
    "name": "ipython",
    "version": 3
   },
   "file_extension": ".py",
   "mimetype": "text/x-python",
   "name": "python",
   "nbconvert_exporter": "python",
   "pygments_lexer": "ipython3",
   "version": "3.10.4"
  },
  "orig_nbformat": 4,
  "vscode": {
   "interpreter": {
    "hash": "916dbcbb3f70747c44a77c7bcd40155683ae19c65e1c03b4aa3499c5328201f1"
   }
  }
 },
 "nbformat": 4,
 "nbformat_minor": 2
}
