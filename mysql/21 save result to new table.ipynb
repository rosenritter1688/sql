{
 "cells": [
  {
   "cell_type": "code",
   "execution_count": null,
   "metadata": {},
   "outputs": [],
   "source": [
    "import mysql.connector as sql\n",
    "import pandas as pd\n",
    "\n",
    "mydb = sql.connect (\n",
    "    host = \"localhost\",\n",
    "    user = \"root\",\n",
    "    password = \"ZAQs8271911c$\",\n",
    "    auth_plugin='mysql_native_password',\n",
    "    buffered = True,          # using this for reading table, panda dont need it\n",
    "    #multi=True,                 # if wanna use mulitple query\n",
    "    database = \"sql_fr_ai\"\n",
    ")\n",
    "\n",
    "# auth_plugin is needed, can check by commends \n",
    "# SELECT user,authentication_string,plugin,host FROM mysql.user;\n",
    "# check the columns plugin and user\n",
    "\n",
    "\n",
    "#? only execute sql query wo passing data to panda dataframe\n",
    "# mycoursor = mydb.cursor()\n",
    "# mycoursor.execute(\n",
    "#     \"\"\"\n",
    "#     #! create database\n",
    "#     create database if not exists database_name;\n",
    "#     \"\"\"\n",
    "# )\n",
    "\n",
    "\n",
    "#? execute sql query  AND  passing data to panda dataframe\n",
    "# edit sql query here\n",
    "sql_query = \"\"\"\n",
    "select * \n",
    "from  order_report_1\n",
    "\"\"\"\n",
    "# run sql queries and Importing data from a MySQL database \n",
    "# into Pandas data frame\n",
    "\n",
    "df = pd.read_sql_query(\n",
    "    sql_query,\n",
    "    mydb)\n",
    "\n",
    "\n",
    "df.head()\n"
   ]
  },
  {
   "cell_type": "code",
   "execution_count": null,
   "metadata": {},
   "outputs": [],
   "source": [
    "\n",
    "#? テーブル和した結果に対して、日毎に売上を集計(合計)したものをテーブルとして保存\n",
    "mycoursor = mydb.cursor()\n",
    "mycoursor.execute(\n",
    "    \"\"\"\n",
    "    \n",
    "    CREATE TABLE IF NOT EXISTS daily_amount AS\n",
    "    SELECT \n",
    "        order_report.date_ymd,\n",
    "        sum( order_report.amount ) AS amount_day\n",
    "    FROM(  -- UNION ALL 2 TABLES AS order_report\n",
    "        SELECT *\n",
    "        FROM order_report_1\n",
    "        UNION ALL\n",
    "            SELECT *\n",
    "            FROM order_report_2\n",
    "    ) AS order_report\n",
    "    GROUP BY order_report.date_ymd\n",
    "    ;\n",
    "    \"\"\"\n",
    "\n",
    "\n",
    "\n",
    "\n",
    "\n",
    "\n",
    "select count(*)\n",
    "from daily_amount;\n",
    "\t"
   ]
  }
 ],
 "metadata": {
  "kernelspec": {
   "display_name": "Python 3.10.4 64-bit",
   "language": "python",
   "name": "python3"
  },
  "language_info": {
   "name": "python",
   "version": "3.10.4"
  },
  "orig_nbformat": 4,
  "vscode": {
   "interpreter": {
    "hash": "916dbcbb3f70747c44a77c7bcd40155683ae19c65e1c03b4aa3499c5328201f1"
   }
  }
 },
 "nbformat": 4,
 "nbformat_minor": 2
}
