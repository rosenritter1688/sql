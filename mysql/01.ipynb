{
 "cells": [
  {
   "cell_type": "code",
   "execution_count": 2,
   "metadata": {},
   "outputs": [
    {
     "name": "stdout",
     "output_type": "stream",
     "text": [
      "<mysql.connector.connection_cext.CMySQLConnection object at 0x7fa4fa03d490>\n"
     ]
    }
   ],
   "source": [
    "import mysql.connector as sql\n",
    "import pandas as pd\n",
    "\n",
    "mydb = sql.connect (\n",
    "    host = \"localhost\",\n",
    "    user = \"root\",\n",
    "    password = \"ZAQs8271911c$\",\n",
    "    auth_plugin='mysql_native_password',\n",
    "    database = \"sql_intro\"\n",
    ")\n",
    "print(mydb)\n"
   ]
  },
  {
   "cell_type": "markdown",
   "metadata": {},
   "source": [
    "# commends that works in mysql workbench not pandas framework\n",
    "```\n",
    "# show all the databases\n",
    "show databaes; -- mysql\n",
    "select * from sys.databases -- sql server\n",
    "\n",
    "# use database\n",
    "use database_name\n",
    "\n",
    "```"
   ]
  },
  {
   "cell_type": "markdown",
   "metadata": {},
   "source": [
    "# describe table\n",
    "## showing data types of each columns"
   ]
  },
  {
   "cell_type": "code",
   "execution_count": 27,
   "metadata": {},
   "outputs": [
    {
     "name": "stderr",
     "output_type": "stream",
     "text": [
      "/home/bruce/.local/lib/python3.10/site-packages/pandas/io/sql.py:761: UserWarning: pandas only support SQLAlchemy connectable(engine/connection) ordatabase string URI or sqlite3 DBAPI2 connectionother DBAPI2 objects are not tested, please consider using SQLAlchemy\n",
      "  warnings.warn(\n"
     ]
    },
    {
     "data": {
      "text/html": [
       "<div>\n",
       "<style scoped>\n",
       "    .dataframe tbody tr th:only-of-type {\n",
       "        vertical-align: middle;\n",
       "    }\n",
       "\n",
       "    .dataframe tbody tr th {\n",
       "        vertical-align: top;\n",
       "    }\n",
       "\n",
       "    .dataframe thead th {\n",
       "        text-align: right;\n",
       "    }\n",
       "</style>\n",
       "<table border=\"1\" class=\"dataframe\">\n",
       "  <thead>\n",
       "    <tr style=\"text-align: right;\">\n",
       "      <th></th>\n",
       "      <th>Field</th>\n",
       "      <th>Type</th>\n",
       "      <th>Null</th>\n",
       "      <th>Key</th>\n",
       "      <th>Default</th>\n",
       "      <th>Extra</th>\n",
       "    </tr>\n",
       "  </thead>\n",
       "  <tbody>\n",
       "    <tr>\n",
       "      <th>0</th>\n",
       "      <td>Emp_name</td>\n",
       "      <td>b'varchar(25)'</td>\n",
       "      <td>YES</td>\n",
       "      <td>[]</td>\n",
       "      <td>None</td>\n",
       "      <td></td>\n",
       "    </tr>\n",
       "    <tr>\n",
       "      <th>1</th>\n",
       "      <td>Emp_ID</td>\n",
       "      <td>b'int'</td>\n",
       "      <td>NO</td>\n",
       "      <td>[80, 82, 73]</td>\n",
       "      <td>None</td>\n",
       "      <td></td>\n",
       "    </tr>\n",
       "    <tr>\n",
       "      <th>2</th>\n",
       "      <td>Age</td>\n",
       "      <td>b'int'</td>\n",
       "      <td>YES</td>\n",
       "      <td>[]</td>\n",
       "      <td>None</td>\n",
       "      <td></td>\n",
       "    </tr>\n",
       "    <tr>\n",
       "      <th>3</th>\n",
       "      <td>gender</td>\n",
       "      <td>b'char(1)'</td>\n",
       "      <td>YES</td>\n",
       "      <td>[]</td>\n",
       "      <td>None</td>\n",
       "      <td></td>\n",
       "    </tr>\n",
       "    <tr>\n",
       "      <th>4</th>\n",
       "      <td>Doj</td>\n",
       "      <td>b'date'</td>\n",
       "      <td>YES</td>\n",
       "      <td>[]</td>\n",
       "      <td>None</td>\n",
       "      <td></td>\n",
       "    </tr>\n",
       "  </tbody>\n",
       "</table>\n",
       "</div>"
      ],
      "text/plain": [
       "      Field            Type Null           Key Default Extra\n",
       "0  Emp_name  b'varchar(25)'  YES            []    None      \n",
       "1    Emp_ID          b'int'   NO  [80, 82, 73]    None      \n",
       "2       Age          b'int'  YES            []    None      \n",
       "3    gender      b'char(1)'  YES            []    None      \n",
       "4       Doj         b'date'  YES            []    None      "
      ]
     },
     "execution_count": 27,
     "metadata": {},
     "output_type": "execute_result"
    }
   ],
   "source": [
    "# edit sql query here\n",
    "\n",
    "sql_query = \"\"\"\n",
    "#! get details of a table\n",
    "describe employees;\n",
    "\"\"\"\n",
    "#! for sql server exec sp_columns table_name\n",
    "\n",
    "\n",
    "\n",
    "# run sql queries and Importing data from a MySQL database \n",
    "# into Pandas data frame\n",
    "df = pd.read_sql_query(\n",
    "    sql_query,\n",
    "    mydb)\n",
    "df.head()"
   ]
  },
  {
   "cell_type": "markdown",
   "metadata": {},
   "source": [
    "# create database\n",
    "# if exists"
   ]
  },
  {
   "cell_type": "markdown",
   "metadata": {},
   "source": [
    "#### only execute the sql query not passing to pandas dataframe"
   ]
  },
  {
   "cell_type": "code",
   "execution_count": 3,
   "metadata": {},
   "outputs": [],
   "source": [
    "mycoursor = mydb.cursor()\n",
    "\n",
    "mycoursor.execute(\n",
    "    \"\"\"\n",
    "    #! create database\n",
    "    create database if not exists database_name;\n",
    "    \"\"\"\n",
    ")"
   ]
  },
  {
   "cell_type": "markdown",
   "metadata": {},
   "source": [
    "# drop database\n",
    "# if not exists"
   ]
  },
  {
   "cell_type": "code",
   "execution_count": 29,
   "metadata": {},
   "outputs": [],
   "source": [
    "mycoursor = mydb.cursor()\n",
    "mycoursor.execute(\n",
    "    \"\"\"\n",
    "    #! drop database\n",
    "    drop database if exists database_name;\n",
    "\n",
    "    \"\"\"\n",
    ")"
   ]
  },
  {
   "cell_type": "markdown",
   "metadata": {},
   "source": [
    "# create table if not exists"
   ]
  },
  {
   "cell_type": "code",
   "execution_count": 30,
   "metadata": {},
   "outputs": [],
   "source": [
    "mycoursor = mydb.cursor()\n",
    "mycoursor.execute(\n",
    "\"\"\"\n",
    "create table if not exists table_name(\n",
    "    name varchar(25),\n",
    "    Age int,\n",
    "    sex char(1),\n",
    "    doj date,\n",
    "    city varchar(15),\n",
    "    salary float\n",
    ");\n",
    "\"\"\"\n",
    ")"
   ]
  },
  {
   "cell_type": "markdown",
   "metadata": {},
   "source": [
    "# drop table if exists"
   ]
  },
  {
   "cell_type": "code",
   "execution_count": 31,
   "metadata": {},
   "outputs": [],
   "source": [
    "mycoursor = mydb.cursor()\n",
    "mycoursor.execute(\n",
    "\"\"\"\n",
    "drop table if exists table_name;\n",
    "\"\"\"\n",
    ")"
   ]
  },
  {
   "cell_type": "markdown",
   "metadata": {},
   "source": [
    "```\n",
    "-- !SQL Server大致上有char varchar nchar nvarchar text ntext 這6種可以選擇。\n",
    "-- 不過較常用的4種char varchar nchar nvarchar的資料型態。\n",
    "-- <point> 仔細觀察以上4種型態從字面上的差別只在有無var以及有無n\n",
    "\t\t-- ?var\n",
    "        -- * 定長(沒有var):文字的長度固定\n",
    "             -- 當輸入的數據長度沒有達到指定的長度時將自動以英文空格在其後面填充，讓長度達到相對應的長度。\n",
    "\t\t-- * 變長(有var):表示是實際存儲空間是變長的\n",
    "\t\t\t -- 也就是說當輸入的數據長度沒有達到指定的長度時不會在後面填充空格。\n",
    "             -- (不過text所存儲的也是可變長的)。\n",
    "\t\t/* example\n",
    "        rocket1 char(10)\n",
    "\t\trocket2 varchar(10)\n",
    "\t\t存入相同的資料「HiIU」\n",
    "\t\trocket1 會自動在「HiIU」後面補空白，存滿10 Bytes。\n",
    "\t\trocket2 會根據資料長度變更儲存空間，「HiIU」共四個英文字符，所以則存了4 Bytes。\n",
    "        !使用varchar相對節省空間。\n",
    "        */\n",
    "        \n",
    "        -- ?n \n",
    "        -- refers to unicode or non-unicode\n",
    "        -- 在資料庫中，每個英文字符的儲存空間只需要一個 1 Byte，\n",
    "        -- 但若是非英文字及符號，如中文、泰文、日文、韓文等非英文字符，則需要 2 Byte來儲存。\n",
    "\t\t-- 如果英文與中文同時存在，由於占用空間數不同，容易造成混亂，導致讀取出來的字符串是亂碼。\n",
    "        -- 所以就要使用Unicode字符集(N)。\n",
    "\n",
    "        -- * Unicode(有n):所有的文字都用2 Byte來儲存，\n",
    "        -- 即使是英文字也是使用2 Byte來儲存，\n",
    "        -- 就可以解決中英文字符集不兼容的問題。\n",
    "        -- * 非Unicode(沒有n):文字是英文字符就是1 Byte;\n",
    "        -- * 非英文字符就是使用2 Byte來儲存。\n",
    "        -- ! 較佔儲存空間，但若儲存的資料不限於英文，\n",
    "        -- ! 建議都以n開頭的欄位型態為主，避免亂碼。\n",
    "\n",
    "-- summay\n",
    "-- 有var的:在存不固定長度的資料時，較省空間。\n",
    "-- 有n的:支援Unicode，不過儲存的資料會大兩倍(全部都英文字的話啦)。\n",
    "/*\n",
    "char 存資料有固定長度，並且都為英文數字。\n",
    "nchar 存資料有固定長度，但不確定是否都是英文數字。\n",
    "varchar 存資料沒有固定長度，並且都為英文數字。\n",
    "nvarchar 存資料沒有固定長度，且不確定是否皆為英文數字。\n",
    "*/\n",
    "\n",
    "```"
   ]
  },
  {
   "cell_type": "markdown",
   "metadata": {},
   "source": [
    "# these wont work on juypter\n",
    "# show all users\n",
    "```\n",
    "select * from mysql.user;\n",
    "```\n",
    "#\n",
    "\n",
    "```\n",
    "SELECT user,authentication_string,plugin,host FROM mysql.user;\n",
    "select user, authentication_string, plugin from mysql.user;\n",
    "```\n",
    "### plugin代表密碼方式有:auth_socket和mysql_native_password\n",
    "### 接著把root的auth_socket換成mysql_native_password\n"
   ]
  },
  {
   "cell_type": "markdown",
   "metadata": {},
   "source": [
    "## change password\n",
    "```\n",
    "ALTER USER 'root'@'localhost' IDENTIFIED WITH mysql_native_password BY 'password';\n",
    "```\n",
    "## after changing password need to restart and take effect\n",
    "```\n",
    "FLUSH PRIVILEGES;\n",
    "```\n",
    "## 倒著順序查看user表格的欄位:\n",
    "```\n",
    "desc user;\n",
    "```"
   ]
  },
  {
   "cell_type": "markdown",
   "metadata": {},
   "source": [
    "# insert data into table"
   ]
  },
  {
   "cell_type": "code",
   "execution_count": 32,
   "metadata": {},
   "outputs": [],
   "source": [
    "# mycoursor = mydb.cursor()\n",
    "# mycoursor.execute(\n",
    "# \"\"\"\n",
    "# INSERT INTO emp_details\n",
    "# VALUES (\"Jimmy\", 35, \"M\", \"2005-05-30\", \"Chicago\", 70000),\n",
    "# \t            (\"Shane\", 30, \"M\", \"1999-06-25\", \"Seattle\", 55000),\n",
    "#                 (\"Marry\", 28, \"F\", \"2009-03-10\", \"Boston\", 62000),\n",
    "#                 (\"Dwayne\", 37, \"M\", \"2011-07-12\", \"Austin\", 57000),\n",
    "# \t            (\"Sara\", 32, \"F\", \"2017-10-27\", \"New York\", 72000),\n",
    "# \t            (\"Ammy\", 35, \"F\", \"2014-12-20\", \"Seattle\", 80000);\n",
    "# \"\"\"\n",
    "# )\n"
   ]
  },
  {
   "cell_type": "markdown",
   "metadata": {},
   "source": [
    "# insert values vs  insert value\n",
    "#### its just readability issue only, all works the same"
   ]
  },
  {
   "cell_type": "markdown",
   "metadata": {},
   "source": [
    "# get data from table\n",
    "#### select column"
   ]
  },
  {
   "cell_type": "code",
   "execution_count": 33,
   "metadata": {},
   "outputs": [
    {
     "name": "stderr",
     "output_type": "stream",
     "text": [
      "/home/bruce/.local/lib/python3.10/site-packages/pandas/io/sql.py:761: UserWarning: pandas only support SQLAlchemy connectable(engine/connection) ordatabase string URI or sqlite3 DBAPI2 connectionother DBAPI2 objects are not tested, please consider using SQLAlchemy\n",
      "  warnings.warn(\n"
     ]
    },
    {
     "data": {
      "text/html": [
       "<div>\n",
       "<style scoped>\n",
       "    .dataframe tbody tr th:only-of-type {\n",
       "        vertical-align: middle;\n",
       "    }\n",
       "\n",
       "    .dataframe tbody tr th {\n",
       "        vertical-align: top;\n",
       "    }\n",
       "\n",
       "    .dataframe thead th {\n",
       "        text-align: right;\n",
       "    }\n",
       "</style>\n",
       "<table border=\"1\" class=\"dataframe\">\n",
       "  <thead>\n",
       "    <tr style=\"text-align: right;\">\n",
       "      <th></th>\n",
       "      <th>Name</th>\n",
       "      <th>Age</th>\n",
       "      <th>sex</th>\n",
       "      <th>doj</th>\n",
       "      <th>city</th>\n",
       "      <th>salary</th>\n",
       "    </tr>\n",
       "  </thead>\n",
       "  <tbody>\n",
       "    <tr>\n",
       "      <th>0</th>\n",
       "      <td>Jimmy</td>\n",
       "      <td>35</td>\n",
       "      <td>M</td>\n",
       "      <td>2005-05-30</td>\n",
       "      <td>Chicago</td>\n",
       "      <td>70000.0</td>\n",
       "    </tr>\n",
       "    <tr>\n",
       "      <th>1</th>\n",
       "      <td>Shane</td>\n",
       "      <td>30</td>\n",
       "      <td>M</td>\n",
       "      <td>1999-06-25</td>\n",
       "      <td>Seattle</td>\n",
       "      <td>55000.0</td>\n",
       "    </tr>\n",
       "    <tr>\n",
       "      <th>2</th>\n",
       "      <td>Marry</td>\n",
       "      <td>28</td>\n",
       "      <td>F</td>\n",
       "      <td>2009-03-10</td>\n",
       "      <td>Boston</td>\n",
       "      <td>62000.0</td>\n",
       "    </tr>\n",
       "    <tr>\n",
       "      <th>3</th>\n",
       "      <td>Dwayne</td>\n",
       "      <td>37</td>\n",
       "      <td>M</td>\n",
       "      <td>2011-07-12</td>\n",
       "      <td>Austin</td>\n",
       "      <td>57000.0</td>\n",
       "    </tr>\n",
       "    <tr>\n",
       "      <th>4</th>\n",
       "      <td>Sara</td>\n",
       "      <td>32</td>\n",
       "      <td>F</td>\n",
       "      <td>2017-10-27</td>\n",
       "      <td>New York</td>\n",
       "      <td>72000.0</td>\n",
       "    </tr>\n",
       "    <tr>\n",
       "      <th>5</th>\n",
       "      <td>Ammy</td>\n",
       "      <td>35</td>\n",
       "      <td>F</td>\n",
       "      <td>2014-12-20</td>\n",
       "      <td>Seattle</td>\n",
       "      <td>80000.0</td>\n",
       "    </tr>\n",
       "  </tbody>\n",
       "</table>\n",
       "</div>"
      ],
      "text/plain": [
       "     Name  Age sex         doj      city   salary\n",
       "0   Jimmy   35   M  2005-05-30   Chicago  70000.0\n",
       "1   Shane   30   M  1999-06-25   Seattle  55000.0\n",
       "2   Marry   28   F  2009-03-10    Boston  62000.0\n",
       "3  Dwayne   37   M  2011-07-12    Austin  57000.0\n",
       "4    Sara   32   F  2017-10-27  New York  72000.0\n",
       "5    Ammy   35   F  2014-12-20   Seattle  80000.0"
      ]
     },
     "execution_count": 33,
     "metadata": {},
     "output_type": "execute_result"
    }
   ],
   "source": [
    "\n",
    "# edit sql query here\n",
    "#! insert data into table\n",
    "sql_query = \"\"\"\n",
    "select * \n",
    "from emp_details;  \n",
    "\"\"\"\n",
    "# select * > * means all\n",
    "# select * = get all columns\n",
    "# from table_name\n",
    "\n",
    "\n",
    "\n",
    "# run sql queries and Importing data from a MySQL database \n",
    "# into Pandas data frame\n",
    "df = pd.read_sql_query(\n",
    "    sql_query,\n",
    "    mydb)\n",
    "df"
   ]
  },
  {
   "cell_type": "markdown",
   "metadata": {},
   "source": [
    "# select distinct\n",
    "# get data from column but no duplicate"
   ]
  },
  {
   "cell_type": "code",
   "execution_count": 34,
   "metadata": {},
   "outputs": [
    {
     "name": "stderr",
     "output_type": "stream",
     "text": [
      "/home/bruce/.local/lib/python3.10/site-packages/pandas/io/sql.py:761: UserWarning: pandas only support SQLAlchemy connectable(engine/connection) ordatabase string URI or sqlite3 DBAPI2 connectionother DBAPI2 objects are not tested, please consider using SQLAlchemy\n",
      "  warnings.warn(\n"
     ]
    },
    {
     "data": {
      "text/html": [
       "<div>\n",
       "<style scoped>\n",
       "    .dataframe tbody tr th:only-of-type {\n",
       "        vertical-align: middle;\n",
       "    }\n",
       "\n",
       "    .dataframe tbody tr th {\n",
       "        vertical-align: top;\n",
       "    }\n",
       "\n",
       "    .dataframe thead th {\n",
       "        text-align: right;\n",
       "    }\n",
       "</style>\n",
       "<table border=\"1\" class=\"dataframe\">\n",
       "  <thead>\n",
       "    <tr style=\"text-align: right;\">\n",
       "      <th></th>\n",
       "      <th>Emp_name</th>\n",
       "      <th>Emp_ID</th>\n",
       "      <th>Age</th>\n",
       "      <th>gender</th>\n",
       "      <th>Doj</th>\n",
       "      <th>Dept</th>\n",
       "      <th>City</th>\n",
       "      <th>Salary</th>\n",
       "    </tr>\n",
       "  </thead>\n",
       "  <tbody>\n",
       "    <tr>\n",
       "      <th>0</th>\n",
       "      <td>Matthew</td>\n",
       "      <td>10000</td>\n",
       "      <td>30</td>\n",
       "      <td>M</td>\n",
       "      <td>2000-10-17</td>\n",
       "      <td>Marketing</td>\n",
       "      <td>Chicago</td>\n",
       "      <td>40000.0</td>\n",
       "    </tr>\n",
       "    <tr>\n",
       "      <th>1</th>\n",
       "      <td>Betty</td>\n",
       "      <td>10001</td>\n",
       "      <td>39</td>\n",
       "      <td>M</td>\n",
       "      <td>2000-08-06</td>\n",
       "      <td>PR</td>\n",
       "      <td>Los Angeles</td>\n",
       "      <td>100000.0</td>\n",
       "    </tr>\n",
       "    <tr>\n",
       "      <th>2</th>\n",
       "      <td>Nancy</td>\n",
       "      <td>10002</td>\n",
       "      <td>43</td>\n",
       "      <td>M</td>\n",
       "      <td>2000-03-04</td>\n",
       "      <td>PR</td>\n",
       "      <td>Chicago</td>\n",
       "      <td>50000.0</td>\n",
       "    </tr>\n",
       "    <tr>\n",
       "      <th>3</th>\n",
       "      <td>Daniel</td>\n",
       "      <td>10003</td>\n",
       "      <td>19</td>\n",
       "      <td>M</td>\n",
       "      <td>2000-09-19</td>\n",
       "      <td>Finance</td>\n",
       "      <td>San Antonio</td>\n",
       "      <td>70000.0</td>\n",
       "    </tr>\n",
       "    <tr>\n",
       "      <th>4</th>\n",
       "      <td>Lisa</td>\n",
       "      <td>10004</td>\n",
       "      <td>42</td>\n",
       "      <td>F</td>\n",
       "      <td>2000-03-17</td>\n",
       "      <td>IT</td>\n",
       "      <td>Phoenix</td>\n",
       "      <td>60000.0</td>\n",
       "    </tr>\n",
       "  </tbody>\n",
       "</table>\n",
       "</div>"
      ],
      "text/plain": [
       "  Emp_name  Emp_ID  Age gender         Doj       Dept         City    Salary\n",
       "0  Matthew   10000   30      M  2000-10-17  Marketing      Chicago   40000.0\n",
       "1    Betty   10001   39      M  2000-08-06         PR  Los Angeles  100000.0\n",
       "2    Nancy   10002   43      M  2000-03-04         PR      Chicago   50000.0\n",
       "3   Daniel   10003   19      M  2000-09-19    Finance  San Antonio   70000.0\n",
       "4     Lisa   10004   42      F  2000-03-17         IT      Phoenix   60000.0"
      ]
     },
     "execution_count": 34,
     "metadata": {},
     "output_type": "execute_result"
    }
   ],
   "source": [
    "# edit sql query here\n",
    "#! get the data from employees \n",
    "sql_query = \"\"\"\n",
    "SELECT  * \n",
    "from employees;  \n",
    "\"\"\"\n",
    "\n",
    "# run sql queries and Importing data from a MySQL database \n",
    "# into Pandas data frame\n",
    "df = pd.read_sql_query(\n",
    "    sql_query,\n",
    "    mydb)\n",
    "df.head()  # just get first five datas"
   ]
  },
  {
   "cell_type": "code",
   "execution_count": 35,
   "metadata": {},
   "outputs": [
    {
     "name": "stderr",
     "output_type": "stream",
     "text": [
      "/home/bruce/.local/lib/python3.10/site-packages/pandas/io/sql.py:761: UserWarning: pandas only support SQLAlchemy connectable(engine/connection) ordatabase string URI or sqlite3 DBAPI2 connectionother DBAPI2 objects are not tested, please consider using SQLAlchemy\n",
      "  warnings.warn(\n"
     ]
    },
    {
     "data": {
      "text/html": [
       "<div>\n",
       "<style scoped>\n",
       "    .dataframe tbody tr th:only-of-type {\n",
       "        vertical-align: middle;\n",
       "    }\n",
       "\n",
       "    .dataframe tbody tr th {\n",
       "        vertical-align: top;\n",
       "    }\n",
       "\n",
       "    .dataframe thead th {\n",
       "        text-align: right;\n",
       "    }\n",
       "</style>\n",
       "<table border=\"1\" class=\"dataframe\">\n",
       "  <thead>\n",
       "    <tr style=\"text-align: right;\">\n",
       "      <th></th>\n",
       "      <th>City</th>\n",
       "    </tr>\n",
       "  </thead>\n",
       "  <tbody>\n",
       "    <tr>\n",
       "      <th>0</th>\n",
       "      <td>Chicago</td>\n",
       "    </tr>\n",
       "    <tr>\n",
       "      <th>1</th>\n",
       "      <td>Los Angeles</td>\n",
       "    </tr>\n",
       "    <tr>\n",
       "      <th>2</th>\n",
       "      <td>San Antonio</td>\n",
       "    </tr>\n",
       "    <tr>\n",
       "      <th>3</th>\n",
       "      <td>Phoenix</td>\n",
       "    </tr>\n",
       "    <tr>\n",
       "      <th>4</th>\n",
       "      <td>Houston</td>\n",
       "    </tr>\n",
       "    <tr>\n",
       "      <th>5</th>\n",
       "      <td>San Jose</td>\n",
       "    </tr>\n",
       "    <tr>\n",
       "      <th>6</th>\n",
       "      <td>Dallas</td>\n",
       "    </tr>\n",
       "    <tr>\n",
       "      <th>7</th>\n",
       "      <td>Philadelphia</td>\n",
       "    </tr>\n",
       "    <tr>\n",
       "      <th>8</th>\n",
       "      <td>San Diego</td>\n",
       "    </tr>\n",
       "  </tbody>\n",
       "</table>\n",
       "</div>"
      ],
      "text/plain": [
       "           City\n",
       "0       Chicago\n",
       "1   Los Angeles\n",
       "2   San Antonio\n",
       "3       Phoenix\n",
       "4       Houston\n",
       "5      San Jose\n",
       "6        Dallas\n",
       "7  Philadelphia\n",
       "8     San Diego"
      ]
     },
     "execution_count": 35,
     "metadata": {},
     "output_type": "execute_result"
    }
   ],
   "source": [
    "# edit sql query here\n",
    "#! lets use DISTINCT to show Citys with no duplicate from table employees\n",
    "sql_query = \"\"\"\n",
    "SELECT  DISTINCT City\n",
    "from employees;  \n",
    "\"\"\"\n",
    "\n",
    "# run sql queries and Importing data from a MySQL database \n",
    "# into Pandas data frame\n",
    "df = pd.read_sql_query(\n",
    "    sql_query,\n",
    "    mydb)\n",
    "df"
   ]
  },
  {
   "cell_type": "code",
   "execution_count": 36,
   "metadata": {},
   "outputs": [
    {
     "name": "stderr",
     "output_type": "stream",
     "text": [
      "/home/bruce/.local/lib/python3.10/site-packages/pandas/io/sql.py:761: UserWarning: pandas only support SQLAlchemy connectable(engine/connection) ordatabase string URI or sqlite3 DBAPI2 connectionother DBAPI2 objects are not tested, please consider using SQLAlchemy\n",
      "  warnings.warn(\n"
     ]
    },
    {
     "data": {
      "text/html": [
       "<div>\n",
       "<style scoped>\n",
       "    .dataframe tbody tr th:only-of-type {\n",
       "        vertical-align: middle;\n",
       "    }\n",
       "\n",
       "    .dataframe tbody tr th {\n",
       "        vertical-align: top;\n",
       "    }\n",
       "\n",
       "    .dataframe thead th {\n",
       "        text-align: right;\n",
       "    }\n",
       "</style>\n",
       "<table border=\"1\" class=\"dataframe\">\n",
       "  <thead>\n",
       "    <tr style=\"text-align: right;\">\n",
       "      <th></th>\n",
       "      <th>Name</th>\n",
       "      <th>Age</th>\n",
       "      <th>sex</th>\n",
       "      <th>doj</th>\n",
       "      <th>city</th>\n",
       "      <th>salary</th>\n",
       "    </tr>\n",
       "  </thead>\n",
       "  <tbody>\n",
       "    <tr>\n",
       "      <th>0</th>\n",
       "      <td>Jimmy</td>\n",
       "      <td>35</td>\n",
       "      <td>M</td>\n",
       "      <td>2005-05-30</td>\n",
       "      <td>Chicago</td>\n",
       "      <td>70000.0</td>\n",
       "    </tr>\n",
       "    <tr>\n",
       "      <th>1</th>\n",
       "      <td>Shane</td>\n",
       "      <td>30</td>\n",
       "      <td>M</td>\n",
       "      <td>1999-06-25</td>\n",
       "      <td>Seattle</td>\n",
       "      <td>55000.0</td>\n",
       "    </tr>\n",
       "    <tr>\n",
       "      <th>2</th>\n",
       "      <td>Marry</td>\n",
       "      <td>28</td>\n",
       "      <td>F</td>\n",
       "      <td>2009-03-10</td>\n",
       "      <td>Boston</td>\n",
       "      <td>62000.0</td>\n",
       "    </tr>\n",
       "    <tr>\n",
       "      <th>3</th>\n",
       "      <td>Dwayne</td>\n",
       "      <td>37</td>\n",
       "      <td>M</td>\n",
       "      <td>2011-07-12</td>\n",
       "      <td>Austin</td>\n",
       "      <td>57000.0</td>\n",
       "    </tr>\n",
       "    <tr>\n",
       "      <th>4</th>\n",
       "      <td>Sara</td>\n",
       "      <td>32</td>\n",
       "      <td>F</td>\n",
       "      <td>2017-10-27</td>\n",
       "      <td>New York</td>\n",
       "      <td>72000.0</td>\n",
       "    </tr>\n",
       "    <tr>\n",
       "      <th>5</th>\n",
       "      <td>Ammy</td>\n",
       "      <td>35</td>\n",
       "      <td>F</td>\n",
       "      <td>2014-12-20</td>\n",
       "      <td>Seattle</td>\n",
       "      <td>80000.0</td>\n",
       "    </tr>\n",
       "  </tbody>\n",
       "</table>\n",
       "</div>"
      ],
      "text/plain": [
       "     Name  Age sex         doj      city   salary\n",
       "0   Jimmy   35   M  2005-05-30   Chicago  70000.0\n",
       "1   Shane   30   M  1999-06-25   Seattle  55000.0\n",
       "2   Marry   28   F  2009-03-10    Boston  62000.0\n",
       "3  Dwayne   37   M  2011-07-12    Austin  57000.0\n",
       "4    Sara   32   F  2017-10-27  New York  72000.0\n",
       "5    Ammy   35   F  2014-12-20   Seattle  80000.0"
      ]
     },
     "execution_count": 36,
     "metadata": {},
     "output_type": "execute_result"
    }
   ],
   "source": [
    "# edit sql query here\n",
    "# get data from emp_details table for brief idea\n",
    "#! in sql workbench capital sensitivity is not matters, but in here does maters\n",
    "sql_query = \"\"\"\n",
    "select * from emp_details;\n",
    "\"\"\"\n",
    "\n",
    "# run sql queries and Importing data from a MySQL database \n",
    "# into Pandas data frame\n",
    "df = pd.read_sql_query(\n",
    "    sql_query,\n",
    "    mydb)\n",
    "df"
   ]
  },
  {
   "cell_type": "code",
   "execution_count": 37,
   "metadata": {},
   "outputs": [
    {
     "name": "stderr",
     "output_type": "stream",
     "text": [
      "/home/bruce/.local/lib/python3.10/site-packages/pandas/io/sql.py:761: UserWarning: pandas only support SQLAlchemy connectable(engine/connection) ordatabase string URI or sqlite3 DBAPI2 connectionother DBAPI2 objects are not tested, please consider using SQLAlchemy\n",
      "  warnings.warn(\n"
     ]
    },
    {
     "data": {
      "text/html": [
       "<div>\n",
       "<style scoped>\n",
       "    .dataframe tbody tr th:only-of-type {\n",
       "        vertical-align: middle;\n",
       "    }\n",
       "\n",
       "    .dataframe tbody tr th {\n",
       "        vertical-align: top;\n",
       "    }\n",
       "\n",
       "    .dataframe thead th {\n",
       "        text-align: right;\n",
       "    }\n",
       "</style>\n",
       "<table border=\"1\" class=\"dataframe\">\n",
       "  <thead>\n",
       "    <tr style=\"text-align: right;\">\n",
       "      <th></th>\n",
       "      <th>city</th>\n",
       "    </tr>\n",
       "  </thead>\n",
       "  <tbody>\n",
       "    <tr>\n",
       "      <th>0</th>\n",
       "      <td>Chicago</td>\n",
       "    </tr>\n",
       "    <tr>\n",
       "      <th>1</th>\n",
       "      <td>Seattle</td>\n",
       "    </tr>\n",
       "    <tr>\n",
       "      <th>2</th>\n",
       "      <td>Boston</td>\n",
       "    </tr>\n",
       "    <tr>\n",
       "      <th>3</th>\n",
       "      <td>Austin</td>\n",
       "    </tr>\n",
       "    <tr>\n",
       "      <th>4</th>\n",
       "      <td>New York</td>\n",
       "    </tr>\n",
       "  </tbody>\n",
       "</table>\n",
       "</div>"
      ],
      "text/plain": [
       "       city\n",
       "0   Chicago\n",
       "1   Seattle\n",
       "2    Boston\n",
       "3    Austin\n",
       "4  New York"
      ]
     },
     "execution_count": 37,
     "metadata": {},
     "output_type": "execute_result"
    }
   ],
   "source": [
    "# edit sql query here\n",
    "# get data from emp_details table for brief idea\n",
    "\n",
    "sql_query = \"\"\"\n",
    "select distinct city \n",
    "from emp_details;\n",
    "\"\"\"\n",
    "# select distinct city \n",
    "#? gets values from column \"City\" but no duplicate \n",
    "\n",
    "# run sql queries and Importing data from a MySQL database \n",
    "# into Pandas data frame\n",
    "df = pd.read_sql_query(\n",
    "    sql_query,\n",
    "    mydb)\n",
    "df"
   ]
  },
  {
   "cell_type": "markdown",
   "metadata": {},
   "source": [
    "#### then you would notice Seattle is no longer duplicated"
   ]
  },
  {
   "cell_type": "markdown",
   "metadata": {},
   "source": [
    "# delete a data from table\n",
    "```\n",
    "delete from table_name\n",
    "where name = \"Robbin\";\n",
    "```"
   ]
  },
  {
   "cell_type": "code",
   "execution_count": 38,
   "metadata": {},
   "outputs": [],
   "source": [
    "# insert a employee named Robbin then delete it\n",
    "mycoursor = mydb.cursor()\n",
    "mycoursor.execute(\n",
    "\"\"\"\n",
    "insert into emp_details\n",
    "value (\"Robbin\", 35, \"F\", \"2005-05-30\", \"Chicago\", 70000);\n",
    "\"\"\"\n",
    ")"
   ]
  },
  {
   "cell_type": "code",
   "execution_count": 39,
   "metadata": {},
   "outputs": [
    {
     "name": "stderr",
     "output_type": "stream",
     "text": [
      "/home/bruce/.local/lib/python3.10/site-packages/pandas/io/sql.py:761: UserWarning: pandas only support SQLAlchemy connectable(engine/connection) ordatabase string URI or sqlite3 DBAPI2 connectionother DBAPI2 objects are not tested, please consider using SQLAlchemy\n",
      "  warnings.warn(\n"
     ]
    },
    {
     "data": {
      "text/html": [
       "<div>\n",
       "<style scoped>\n",
       "    .dataframe tbody tr th:only-of-type {\n",
       "        vertical-align: middle;\n",
       "    }\n",
       "\n",
       "    .dataframe tbody tr th {\n",
       "        vertical-align: top;\n",
       "    }\n",
       "\n",
       "    .dataframe thead th {\n",
       "        text-align: right;\n",
       "    }\n",
       "</style>\n",
       "<table border=\"1\" class=\"dataframe\">\n",
       "  <thead>\n",
       "    <tr style=\"text-align: right;\">\n",
       "      <th></th>\n",
       "      <th>Name</th>\n",
       "      <th>Age</th>\n",
       "      <th>sex</th>\n",
       "      <th>doj</th>\n",
       "      <th>city</th>\n",
       "      <th>salary</th>\n",
       "    </tr>\n",
       "  </thead>\n",
       "  <tbody>\n",
       "    <tr>\n",
       "      <th>0</th>\n",
       "      <td>Jimmy</td>\n",
       "      <td>35</td>\n",
       "      <td>M</td>\n",
       "      <td>2005-05-30</td>\n",
       "      <td>Chicago</td>\n",
       "      <td>70000.0</td>\n",
       "    </tr>\n",
       "    <tr>\n",
       "      <th>1</th>\n",
       "      <td>Shane</td>\n",
       "      <td>30</td>\n",
       "      <td>M</td>\n",
       "      <td>1999-06-25</td>\n",
       "      <td>Seattle</td>\n",
       "      <td>55000.0</td>\n",
       "    </tr>\n",
       "    <tr>\n",
       "      <th>2</th>\n",
       "      <td>Marry</td>\n",
       "      <td>28</td>\n",
       "      <td>F</td>\n",
       "      <td>2009-03-10</td>\n",
       "      <td>Boston</td>\n",
       "      <td>62000.0</td>\n",
       "    </tr>\n",
       "    <tr>\n",
       "      <th>3</th>\n",
       "      <td>Dwayne</td>\n",
       "      <td>37</td>\n",
       "      <td>M</td>\n",
       "      <td>2011-07-12</td>\n",
       "      <td>Austin</td>\n",
       "      <td>57000.0</td>\n",
       "    </tr>\n",
       "    <tr>\n",
       "      <th>4</th>\n",
       "      <td>Sara</td>\n",
       "      <td>32</td>\n",
       "      <td>F</td>\n",
       "      <td>2017-10-27</td>\n",
       "      <td>New York</td>\n",
       "      <td>72000.0</td>\n",
       "    </tr>\n",
       "    <tr>\n",
       "      <th>5</th>\n",
       "      <td>Ammy</td>\n",
       "      <td>35</td>\n",
       "      <td>F</td>\n",
       "      <td>2014-12-20</td>\n",
       "      <td>Seattle</td>\n",
       "      <td>80000.0</td>\n",
       "    </tr>\n",
       "    <tr>\n",
       "      <th>6</th>\n",
       "      <td>Robbin</td>\n",
       "      <td>35</td>\n",
       "      <td>F</td>\n",
       "      <td>2005-05-30</td>\n",
       "      <td>Chicago</td>\n",
       "      <td>70000.0</td>\n",
       "    </tr>\n",
       "  </tbody>\n",
       "</table>\n",
       "</div>"
      ],
      "text/plain": [
       "     Name  Age sex         doj      city   salary\n",
       "0   Jimmy   35   M  2005-05-30   Chicago  70000.0\n",
       "1   Shane   30   M  1999-06-25   Seattle  55000.0\n",
       "2   Marry   28   F  2009-03-10    Boston  62000.0\n",
       "3  Dwayne   37   M  2011-07-12    Austin  57000.0\n",
       "4    Sara   32   F  2017-10-27  New York  72000.0\n",
       "5    Ammy   35   F  2014-12-20   Seattle  80000.0\n",
       "6  Robbin   35   F  2005-05-30   Chicago  70000.0"
      ]
     },
     "execution_count": 39,
     "metadata": {},
     "output_type": "execute_result"
    }
   ],
   "source": [
    "# edit sql query here\n",
    "# insert a value first then delete it\n",
    "sql_query = \"\"\"\n",
    "select *\n",
    "from emp_details;\n",
    "\"\"\"\n",
    "# run sql queries and Importing data from a MySQL database \n",
    "# into Pandas data frame\n",
    "df = pd.read_sql_query(\n",
    "    sql_query,\n",
    "    mydb)\n",
    "df"
   ]
  },
  {
   "cell_type": "code",
   "execution_count": 40,
   "metadata": {},
   "outputs": [],
   "source": [
    "# lets delete Robbin\n",
    "mycoursor = mydb.cursor()\n",
    "mycoursor.execute(\n",
    "\"\"\"\n",
    "delete from emp_details\n",
    "where name = \"Robbin\";\n",
    "\"\"\"\n",
    ")"
   ]
  },
  {
   "cell_type": "code",
   "execution_count": 41,
   "metadata": {},
   "outputs": [
    {
     "name": "stderr",
     "output_type": "stream",
     "text": [
      "/home/bruce/.local/lib/python3.10/site-packages/pandas/io/sql.py:761: UserWarning: pandas only support SQLAlchemy connectable(engine/connection) ordatabase string URI or sqlite3 DBAPI2 connectionother DBAPI2 objects are not tested, please consider using SQLAlchemy\n",
      "  warnings.warn(\n"
     ]
    },
    {
     "data": {
      "text/html": [
       "<div>\n",
       "<style scoped>\n",
       "    .dataframe tbody tr th:only-of-type {\n",
       "        vertical-align: middle;\n",
       "    }\n",
       "\n",
       "    .dataframe tbody tr th {\n",
       "        vertical-align: top;\n",
       "    }\n",
       "\n",
       "    .dataframe thead th {\n",
       "        text-align: right;\n",
       "    }\n",
       "</style>\n",
       "<table border=\"1\" class=\"dataframe\">\n",
       "  <thead>\n",
       "    <tr style=\"text-align: right;\">\n",
       "      <th></th>\n",
       "      <th>Name</th>\n",
       "      <th>Age</th>\n",
       "      <th>sex</th>\n",
       "      <th>doj</th>\n",
       "      <th>city</th>\n",
       "      <th>salary</th>\n",
       "    </tr>\n",
       "  </thead>\n",
       "  <tbody>\n",
       "    <tr>\n",
       "      <th>0</th>\n",
       "      <td>Jimmy</td>\n",
       "      <td>35</td>\n",
       "      <td>M</td>\n",
       "      <td>2005-05-30</td>\n",
       "      <td>Chicago</td>\n",
       "      <td>70000.0</td>\n",
       "    </tr>\n",
       "    <tr>\n",
       "      <th>1</th>\n",
       "      <td>Shane</td>\n",
       "      <td>30</td>\n",
       "      <td>M</td>\n",
       "      <td>1999-06-25</td>\n",
       "      <td>Seattle</td>\n",
       "      <td>55000.0</td>\n",
       "    </tr>\n",
       "    <tr>\n",
       "      <th>2</th>\n",
       "      <td>Marry</td>\n",
       "      <td>28</td>\n",
       "      <td>F</td>\n",
       "      <td>2009-03-10</td>\n",
       "      <td>Boston</td>\n",
       "      <td>62000.0</td>\n",
       "    </tr>\n",
       "    <tr>\n",
       "      <th>3</th>\n",
       "      <td>Dwayne</td>\n",
       "      <td>37</td>\n",
       "      <td>M</td>\n",
       "      <td>2011-07-12</td>\n",
       "      <td>Austin</td>\n",
       "      <td>57000.0</td>\n",
       "    </tr>\n",
       "    <tr>\n",
       "      <th>4</th>\n",
       "      <td>Sara</td>\n",
       "      <td>32</td>\n",
       "      <td>F</td>\n",
       "      <td>2017-10-27</td>\n",
       "      <td>New York</td>\n",
       "      <td>72000.0</td>\n",
       "    </tr>\n",
       "    <tr>\n",
       "      <th>5</th>\n",
       "      <td>Ammy</td>\n",
       "      <td>35</td>\n",
       "      <td>F</td>\n",
       "      <td>2014-12-20</td>\n",
       "      <td>Seattle</td>\n",
       "      <td>80000.0</td>\n",
       "    </tr>\n",
       "  </tbody>\n",
       "</table>\n",
       "</div>"
      ],
      "text/plain": [
       "     Name  Age sex         doj      city   salary\n",
       "0   Jimmy   35   M  2005-05-30   Chicago  70000.0\n",
       "1   Shane   30   M  1999-06-25   Seattle  55000.0\n",
       "2   Marry   28   F  2009-03-10    Boston  62000.0\n",
       "3  Dwayne   37   M  2011-07-12    Austin  57000.0\n",
       "4    Sara   32   F  2017-10-27  New York  72000.0\n",
       "5    Ammy   35   F  2014-12-20   Seattle  80000.0"
      ]
     },
     "execution_count": 41,
     "metadata": {},
     "output_type": "execute_result"
    }
   ],
   "source": [
    "# edit sql query here\n",
    "# insert a value first then delete it\n",
    "sql_query = \"\"\"\n",
    "select *\n",
    "from emp_details;\n",
    "\"\"\"\n",
    "# run sql queries and Importing data from a MySQL database \n",
    "# into Pandas data frame\n",
    "df = pd.read_sql_query(\n",
    "    sql_query,\n",
    "    mydb)\n",
    "df"
   ]
  },
  {
   "cell_type": "markdown",
   "metadata": {},
   "source": [
    "# count()\n",
    "##### exp. counting how many employees in the database"
   ]
  },
  {
   "cell_type": "code",
   "execution_count": 42,
   "metadata": {},
   "outputs": [
    {
     "name": "stderr",
     "output_type": "stream",
     "text": [
      "/home/bruce/.local/lib/python3.10/site-packages/pandas/io/sql.py:761: UserWarning: pandas only support SQLAlchemy connectable(engine/connection) ordatabase string URI or sqlite3 DBAPI2 connectionother DBAPI2 objects are not tested, please consider using SQLAlchemy\n",
      "  warnings.warn(\n"
     ]
    },
    {
     "data": {
      "text/html": [
       "<div>\n",
       "<style scoped>\n",
       "    .dataframe tbody tr th:only-of-type {\n",
       "        vertical-align: middle;\n",
       "    }\n",
       "\n",
       "    .dataframe tbody tr th {\n",
       "        vertical-align: top;\n",
       "    }\n",
       "\n",
       "    .dataframe thead th {\n",
       "        text-align: right;\n",
       "    }\n",
       "</style>\n",
       "<table border=\"1\" class=\"dataframe\">\n",
       "  <thead>\n",
       "    <tr style=\"text-align: right;\">\n",
       "      <th></th>\n",
       "      <th>count(name)</th>\n",
       "    </tr>\n",
       "  </thead>\n",
       "  <tbody>\n",
       "    <tr>\n",
       "      <th>0</th>\n",
       "      <td>6</td>\n",
       "    </tr>\n",
       "  </tbody>\n",
       "</table>\n",
       "</div>"
      ],
      "text/plain": [
       "   count(name)\n",
       "0            6"
      ]
     },
     "execution_count": 42,
     "metadata": {},
     "output_type": "execute_result"
    }
   ],
   "source": [
    "# edit sql query here\n",
    "\n",
    "sql_query = \"\"\"\n",
    "select count(name)\n",
    "from emp_details;\n",
    "\"\"\"\n",
    "# run sql queries and Importing data from a MySQL database \n",
    "# into Pandas data frame\n",
    "df = pd.read_sql_query(\n",
    "    sql_query,\n",
    "    mydb)\n",
    "df"
   ]
  },
  {
   "cell_type": "markdown",
   "metadata": {},
   "source": [
    "# AS"
   ]
  },
  {
   "cell_type": "code",
   "execution_count": 43,
   "metadata": {},
   "outputs": [
    {
     "name": "stderr",
     "output_type": "stream",
     "text": [
      "/home/bruce/.local/lib/python3.10/site-packages/pandas/io/sql.py:761: UserWarning: pandas only support SQLAlchemy connectable(engine/connection) ordatabase string URI or sqlite3 DBAPI2 connectionother DBAPI2 objects are not tested, please consider using SQLAlchemy\n",
      "  warnings.warn(\n"
     ]
    },
    {
     "data": {
      "text/html": [
       "<div>\n",
       "<style scoped>\n",
       "    .dataframe tbody tr th:only-of-type {\n",
       "        vertical-align: middle;\n",
       "    }\n",
       "\n",
       "    .dataframe tbody tr th {\n",
       "        vertical-align: top;\n",
       "    }\n",
       "\n",
       "    .dataframe thead th {\n",
       "        text-align: right;\n",
       "    }\n",
       "</style>\n",
       "<table border=\"1\" class=\"dataframe\">\n",
       "  <thead>\n",
       "    <tr style=\"text-align: right;\">\n",
       "      <th></th>\n",
       "      <th>no_of_emp</th>\n",
       "    </tr>\n",
       "  </thead>\n",
       "  <tbody>\n",
       "    <tr>\n",
       "      <th>0</th>\n",
       "      <td>6</td>\n",
       "    </tr>\n",
       "  </tbody>\n",
       "</table>\n",
       "</div>"
      ],
      "text/plain": [
       "   no_of_emp\n",
       "0          6"
      ]
     },
     "execution_count": 43,
     "metadata": {},
     "output_type": "execute_result"
    }
   ],
   "source": [
    "# edit sql query here\n",
    "# insert a value first then delete it\n",
    "sql_query = \"\"\"\n",
    "select count(name) AS no_of_emp\n",
    "from emp_details;\n",
    "\"\"\"\n",
    "# giving alias name for the column of the search result, \n",
    "# to rename count(name) column name into no_of_emp\n",
    "\n",
    "# run sql queries and Importing data from a MySQL database \n",
    "# into Pandas data frame\n",
    "df = pd.read_sql_query(\n",
    "    sql_query,\n",
    "    mydb)\n",
    "df"
   ]
  },
  {
   "cell_type": "markdown",
   "metadata": {},
   "source": [
    "# sum()"
   ]
  },
  {
   "cell_type": "code",
   "execution_count": 44,
   "metadata": {},
   "outputs": [
    {
     "name": "stderr",
     "output_type": "stream",
     "text": [
      "/home/bruce/.local/lib/python3.10/site-packages/pandas/io/sql.py:761: UserWarning: pandas only support SQLAlchemy connectable(engine/connection) ordatabase string URI or sqlite3 DBAPI2 connectionother DBAPI2 objects are not tested, please consider using SQLAlchemy\n",
      "  warnings.warn(\n"
     ]
    },
    {
     "data": {
      "text/html": [
       "<div>\n",
       "<style scoped>\n",
       "    .dataframe tbody tr th:only-of-type {\n",
       "        vertical-align: middle;\n",
       "    }\n",
       "\n",
       "    .dataframe tbody tr th {\n",
       "        vertical-align: top;\n",
       "    }\n",
       "\n",
       "    .dataframe thead th {\n",
       "        text-align: right;\n",
       "    }\n",
       "</style>\n",
       "<table border=\"1\" class=\"dataframe\">\n",
       "  <thead>\n",
       "    <tr style=\"text-align: right;\">\n",
       "      <th></th>\n",
       "      <th>sum(salary)</th>\n",
       "    </tr>\n",
       "  </thead>\n",
       "  <tbody>\n",
       "    <tr>\n",
       "      <th>0</th>\n",
       "      <td>396000.0</td>\n",
       "    </tr>\n",
       "  </tbody>\n",
       "</table>\n",
       "</div>"
      ],
      "text/plain": [
       "   sum(salary)\n",
       "0     396000.0"
      ]
     },
     "execution_count": 44,
     "metadata": {},
     "output_type": "execute_result"
    }
   ],
   "source": [
    "\n",
    "sql_query = \"\"\"\n",
    "select sum(salary)\n",
    "from emp_details;\n",
    "\"\"\"\n",
    "df = pd.read_sql_query(\n",
    "    sql_query,\n",
    "    mydb)\n",
    "df"
   ]
  },
  {
   "cell_type": "markdown",
   "metadata": {},
   "source": [
    "# avg()"
   ]
  },
  {
   "cell_type": "code",
   "execution_count": 45,
   "metadata": {},
   "outputs": [
    {
     "name": "stderr",
     "output_type": "stream",
     "text": [
      "/home/bruce/.local/lib/python3.10/site-packages/pandas/io/sql.py:761: UserWarning: pandas only support SQLAlchemy connectable(engine/connection) ordatabase string URI or sqlite3 DBAPI2 connectionother DBAPI2 objects are not tested, please consider using SQLAlchemy\n",
      "  warnings.warn(\n"
     ]
    },
    {
     "data": {
      "text/html": [
       "<div>\n",
       "<style scoped>\n",
       "    .dataframe tbody tr th:only-of-type {\n",
       "        vertical-align: middle;\n",
       "    }\n",
       "\n",
       "    .dataframe tbody tr th {\n",
       "        vertical-align: top;\n",
       "    }\n",
       "\n",
       "    .dataframe thead th {\n",
       "        text-align: right;\n",
       "    }\n",
       "</style>\n",
       "<table border=\"1\" class=\"dataframe\">\n",
       "  <thead>\n",
       "    <tr style=\"text-align: right;\">\n",
       "      <th></th>\n",
       "      <th>avg(salary)</th>\n",
       "    </tr>\n",
       "  </thead>\n",
       "  <tbody>\n",
       "    <tr>\n",
       "      <th>0</th>\n",
       "      <td>66000.0</td>\n",
       "    </tr>\n",
       "  </tbody>\n",
       "</table>\n",
       "</div>"
      ],
      "text/plain": [
       "   avg(salary)\n",
       "0      66000.0"
      ]
     },
     "execution_count": 45,
     "metadata": {},
     "output_type": "execute_result"
    }
   ],
   "source": [
    "sql_query = \"\"\"\n",
    "select avg(salary) \n",
    "from emp_details;\n",
    "\"\"\"\n",
    "\n",
    "df = pd.read_sql_query(\n",
    "    sql_query,\n",
    "    mydb)\n",
    "df"
   ]
  },
  {
   "cell_type": "markdown",
   "metadata": {},
   "source": [
    "# select columns"
   ]
  },
  {
   "cell_type": "code",
   "execution_count": 46,
   "metadata": {},
   "outputs": [
    {
     "name": "stderr",
     "output_type": "stream",
     "text": [
      "/home/bruce/.local/lib/python3.10/site-packages/pandas/io/sql.py:761: UserWarning: pandas only support SQLAlchemy connectable(engine/connection) ordatabase string URI or sqlite3 DBAPI2 connectionother DBAPI2 objects are not tested, please consider using SQLAlchemy\n",
      "  warnings.warn(\n"
     ]
    },
    {
     "data": {
      "text/html": [
       "<div>\n",
       "<style scoped>\n",
       "    .dataframe tbody tr th:only-of-type {\n",
       "        vertical-align: middle;\n",
       "    }\n",
       "\n",
       "    .dataframe tbody tr th {\n",
       "        vertical-align: top;\n",
       "    }\n",
       "\n",
       "    .dataframe thead th {\n",
       "        text-align: right;\n",
       "    }\n",
       "</style>\n",
       "<table border=\"1\" class=\"dataframe\">\n",
       "  <thead>\n",
       "    <tr style=\"text-align: right;\">\n",
       "      <th></th>\n",
       "      <th>Name</th>\n",
       "      <th>doj</th>\n",
       "      <th>salary</th>\n",
       "    </tr>\n",
       "  </thead>\n",
       "  <tbody>\n",
       "    <tr>\n",
       "      <th>0</th>\n",
       "      <td>Jimmy</td>\n",
       "      <td>2005-05-30</td>\n",
       "      <td>70000.0</td>\n",
       "    </tr>\n",
       "    <tr>\n",
       "      <th>1</th>\n",
       "      <td>Shane</td>\n",
       "      <td>1999-06-25</td>\n",
       "      <td>55000.0</td>\n",
       "    </tr>\n",
       "    <tr>\n",
       "      <th>2</th>\n",
       "      <td>Marry</td>\n",
       "      <td>2009-03-10</td>\n",
       "      <td>62000.0</td>\n",
       "    </tr>\n",
       "    <tr>\n",
       "      <th>3</th>\n",
       "      <td>Dwayne</td>\n",
       "      <td>2011-07-12</td>\n",
       "      <td>57000.0</td>\n",
       "    </tr>\n",
       "    <tr>\n",
       "      <th>4</th>\n",
       "      <td>Sara</td>\n",
       "      <td>2017-10-27</td>\n",
       "      <td>72000.0</td>\n",
       "    </tr>\n",
       "    <tr>\n",
       "      <th>5</th>\n",
       "      <td>Ammy</td>\n",
       "      <td>2014-12-20</td>\n",
       "      <td>80000.0</td>\n",
       "    </tr>\n",
       "  </tbody>\n",
       "</table>\n",
       "</div>"
      ],
      "text/plain": [
       "     Name         doj   salary\n",
       "0   Jimmy  2005-05-30  70000.0\n",
       "1   Shane  1999-06-25  55000.0\n",
       "2   Marry  2009-03-10  62000.0\n",
       "3  Dwayne  2011-07-12  57000.0\n",
       "4    Sara  2017-10-27  72000.0\n",
       "5    Ammy  2014-12-20  80000.0"
      ]
     },
     "execution_count": 46,
     "metadata": {},
     "output_type": "execute_result"
    }
   ],
   "source": [
    "# only wanna show columns Name, doj, salary\n",
    "sql_query = \"\"\"\n",
    "select Name, doj, salary\n",
    "from emp_details;\n",
    "\"\"\"\n",
    "\n",
    "df = pd.read_sql_query(\n",
    "    sql_query,\n",
    "    mydb)\n",
    "df"
   ]
  }
 ],
 "metadata": {
  "kernelspec": {
   "display_name": "Python 3.10.4 64-bit",
   "language": "python",
   "name": "python3"
  },
  "language_info": {
   "codemirror_mode": {
    "name": "ipython",
    "version": 3
   },
   "file_extension": ".py",
   "mimetype": "text/x-python",
   "name": "python",
   "nbconvert_exporter": "python",
   "pygments_lexer": "ipython3",
   "version": "3.8.10"
  },
  "orig_nbformat": 4,
  "vscode": {
   "interpreter": {
    "hash": "916dbcbb3f70747c44a77c7bcd40155683ae19c65e1c03b4aa3499c5328201f1"
   }
  }
 },
 "nbformat": 4,
 "nbformat_minor": 2
}
