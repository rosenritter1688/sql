{
 "cells": [
  {
   "attachments": {},
   "cell_type": "markdown",
   "metadata": {},
   "source": [
    "#### install \n",
    "##### pip install sqlalchemy\n",
    "##### pip install mysql-connector-python -- install the MySQL connector for Python\n",
    "##### pip install mysqlclient"
   ]
  },
  {
   "attachments": {},
   "cell_type": "markdown",
   "metadata": {},
   "source": [
    "# .\n",
    "# └── sql\n",
    "#    ├── main.py          # ここで、ORM操作をします。\n",
    "#    ├── models\n",
    "#    │   └── user.py      # userテーブルの定義をします。\n",
    "#    └── setting\n",
    "#       └── setting.py   # Engineインスタンス, session生成など行います。"
   ]
  },
  {
   "cell_type": "code",
   "execution_count": 4,
   "metadata": {},
   "outputs": [
    {
     "ename": "ModuleNotFoundError",
     "evalue": "No module named 'mysql.sqlalchemy'",
     "output_type": "error",
     "traceback": [
      "\u001b[1;31m---------------------------------------------------------------------------\u001b[0m",
      "\u001b[1;31mModuleNotFoundError\u001b[0m                       Traceback (most recent call last)",
      "\u001b[1;32md:\\study\\mysql\\sqlalchemy\\00.ipynb Cell 3\u001b[0m in \u001b[0;36m6\n\u001b[0;32m      <a href='vscode-notebook-cell:/d%3A/study/mysql/sqlalchemy/00.ipynb#W1sZmlsZQ%3D%3D?line=1'>2</a>\u001b[0m sys\u001b[39m.\u001b[39mpath\u001b[39m.\u001b[39minsert(\u001b[39m0\u001b[39m, \u001b[39m'\u001b[39m\u001b[39mD:\u001b[39m\u001b[39m\\\u001b[39m\u001b[39mstudy\u001b[39m\u001b[39m\\\u001b[39m\u001b[39mmysql\u001b[39m\u001b[39m\\\u001b[39m\u001b[39msqlalchemy\u001b[39m\u001b[39m'\u001b[39m) \u001b[39m#? telling the folder location of python file\u001b[39;00m\n\u001b[0;32m      <a href='vscode-notebook-cell:/d%3A/study/mysql/sqlalchemy/00.ipynb#W1sZmlsZQ%3D%3D?line=2'>3</a>\u001b[0m \u001b[39mfrom\u001b[39;00m \u001b[39msetting\u001b[39;00m\u001b[39m.\u001b[39;00m\u001b[39msetting\u001b[39;00m \u001b[39mimport\u001b[39;00m ENGINE, Base     \u001b[39m#? import from mysql\\sqlalchemy\\setting.py\u001b[39;00m\n\u001b[1;32m----> <a href='vscode-notebook-cell:/d%3A/study/mysql/sqlalchemy/00.ipynb#W1sZmlsZQ%3D%3D?line=5'>6</a>\u001b[0m \u001b[39mfrom\u001b[39;00m \u001b[39mmodels\u001b[39;00m\u001b[39m.\u001b[39;00m\u001b[39muser\u001b[39;00m \u001b[39mimport\u001b[39;00m \u001b[39m*\u001b[39m\n",
      "File \u001b[1;32mD:\\study\\mysql\\sqlalchemy\\models\\user.py:5\u001b[0m\n\u001b[0;32m      3\u001b[0m \u001b[39mimport\u001b[39;00m \u001b[39msys\u001b[39;00m                                            \u001b[39m#? import from python file\u001b[39;00m\n\u001b[0;32m      4\u001b[0m sys\u001b[39m.\u001b[39mpath\u001b[39m.\u001b[39minsert(\u001b[39m0\u001b[39m, \u001b[39m'\u001b[39m\u001b[39mmysql\u001b[39m\u001b[39m\\\u001b[39m\u001b[39msqlalchemy\u001b[39m\u001b[39m'\u001b[39m) \u001b[39m#? telling the folder location of python file\u001b[39;00m\n\u001b[1;32m----> 5\u001b[0m \u001b[39mfrom\u001b[39;00m \u001b[39mmysql\u001b[39;00m\u001b[39m.\u001b[39;00m\u001b[39msqlalchemy\u001b[39;00m\u001b[39m.\u001b[39;00m\u001b[39msetting\u001b[39;00m\u001b[39m.\u001b[39;00m\u001b[39msetting\u001b[39;00m \u001b[39mimport\u001b[39;00m ENGINE, Base     \u001b[39m#? import from mysql\\sqlalchemy\\setting.py\u001b[39;00m\n\u001b[0;32m      7\u001b[0m \u001b[39mfrom\u001b[39;00m \u001b[39mdatetime\u001b[39;00m \u001b[39mimport\u001b[39;00m datetime\n\u001b[0;32m     11\u001b[0m \u001b[39mclass\u001b[39;00m \u001b[39mUser\u001b[39;00m(Base):\n",
      "\u001b[1;31mModuleNotFoundError\u001b[0m: No module named 'mysql.sqlalchemy'"
     ]
    }
   ],
   "source": [
    "import sys                                            #? import from python file\n",
    "sys.path.insert(0, 'D:\\study\\mysql\\sqlalchemy') #? telling the folder location of python file\n",
    "from setting.setting import ENGINE, Base     #? import from mysql\\sqlalchemy\\setting.py\n",
    "\n",
    "D:\\study\\mysql\\sqlalchemy\\models\n",
    "from models.user import *\n",
    "# from setting.setting import session"
   ]
  }
 ],
 "metadata": {
  "kernelspec": {
   "display_name": "Python 3",
   "language": "python",
   "name": "python3"
  },
  "language_info": {
   "codemirror_mode": {
    "name": "ipython",
    "version": 3
   },
   "file_extension": ".py",
   "mimetype": "text/x-python",
   "name": "python",
   "nbconvert_exporter": "python",
   "pygments_lexer": "ipython3",
   "version": "3.10.7"
  },
  "orig_nbformat": 4,
  "vscode": {
   "interpreter": {
    "hash": "3e748360335f2bf9c5c12ffe143cd93812385ddcb6c3d461a4ee3fa3233acffe"
   }
  }
 },
 "nbformat": 4,
 "nbformat_minor": 2
}
