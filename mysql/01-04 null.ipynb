{
 "cells": [
  {
   "cell_type": "markdown",
   "metadata": {},
   "source": [
    "# NULL\n",
    "\n",
    "#### NULL（欠損）を含む計算には要注意です。NULLを含んだ計算の結\n",
    "#### 果はすべてNULLになります。（以下の計算結果はすべてNULL）\n",
    "##### 5+NULL\n",
    "##### 10-NULL\n",
    "##### 1*NULL\n",
    "##### 4/NULL"
   ]
  },
  {
   "cell_type": "markdown",
   "metadata": {},
   "source": [
    "## in bigquery\n",
    "##### cant use <> Null or != Null\n",
    "##### must use IS NOT NULL\n",
    "###### i guess in BQ, <> and != is only for compariable like string or int"
   ]
  }
 ],
 "metadata": {
  "kernelspec": {
   "display_name": "Python 3",
   "language": "python",
   "name": "python3"
  },
  "language_info": {
   "name": "python",
   "version": "3.10.7"
  },
  "orig_nbformat": 4,
  "vscode": {
   "interpreter": {
    "hash": "3e748360335f2bf9c5c12ffe143cd93812385ddcb6c3d461a4ee3fa3233acffe"
   }
  }
 },
 "nbformat": 4,
 "nbformat_minor": 2
}
