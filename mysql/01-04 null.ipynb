{
 "cells": [
  {
   "cell_type": "markdown",
   "metadata": {},
   "source": [
    "# NULL\n",
    "\n",
    "#### NULL（欠損）を含む計算には要注意です。NULLを含んだ計算の結\n",
    "#### 果はすべてNULLになります。（以下の計算結果はすべてNULL）\n",
    "##### 5+NULL\n",
    "##### 10-NULL\n",
    "##### 1*NULL\n",
    "##### 4/NULL"
   ]
  },
  {
   "cell_type": "markdown",
   "metadata": {},
   "source": [
    "## in bigquery\n",
    "##### cant use <> Null or != Null\n",
    "##### must use IS NOT NULL\n",
    "###### i guess in BQ, <> and != is only for compariable like string or int"
   ]
  }
 ],
 "metadata": {
  "language_info": {
   "name": "python"
  },
  "orig_nbformat": 4
 },
 "nbformat": 4,
 "nbformat_minor": 2
}
