{
 "cells": [
  {
   "cell_type": "markdown",
   "metadata": {},
   "source": [
    "# round重點是四捨五入 - 整數\n",
    "# also can specify decimal place\n",
    "# round() whole number\n",
    "# round(value, decimal_place)"
   ]
  },
  {
   "cell_type": "code",
   "execution_count": 3,
   "metadata": {},
   "outputs": [
    {
     "name": "stdout",
     "output_type": "stream",
     "text": [
      "<mysql.connector.connection_cext.CMySQLConnection object at 0x7f454c1b4820>\n"
     ]
    }
   ],
   "source": [
    "import mysql.connector as sql\n",
    "import pandas as pd\n",
    "\n",
    "# auth_plugin is needed, can check by commends \n",
    "# SELECT user,authentication_string,plugin,host FROM mysql.user;\n",
    "# check the columns plugin and user\n",
    "\n",
    "mydb = sql.connect (\n",
    "    host = \"localhost\",\n",
    "    user = \"root\",\n",
    "    password = \"ZAQs8271911c$\",\n",
    "    auth_plugin='mysql_native_password',\n",
    "    database = \"sql_intro\",\n",
    "    buffered = True             # Unread result found issue\n",
    ")                                              # if using pandas no need to use buffer\n",
    "\n",
    "print(mydb)\n"
   ]
  },
  {
   "cell_type": "markdown",
   "metadata": {},
   "source": [
    "# round()"
   ]
  },
  {
   "cell_type": "code",
   "execution_count": 4,
   "metadata": {},
   "outputs": [
    {
     "data": {
      "text/html": [
       "<div>\n",
       "<style scoped>\n",
       "    .dataframe tbody tr th:only-of-type {\n",
       "        vertical-align: middle;\n",
       "    }\n",
       "\n",
       "    .dataframe tbody tr th {\n",
       "        vertical-align: top;\n",
       "    }\n",
       "\n",
       "    .dataframe thead th {\n",
       "        text-align: right;\n",
       "    }\n",
       "</style>\n",
       "<table border=\"1\" class=\"dataframe\">\n",
       "  <thead>\n",
       "    <tr style=\"text-align: right;\">\n",
       "      <th></th>\n",
       "      <th>ROUND(100,2)</th>\n",
       "    </tr>\n",
       "  </thead>\n",
       "  <tbody>\n",
       "    <tr>\n",
       "      <th>0</th>\n",
       "      <td>100</td>\n",
       "    </tr>\n",
       "  </tbody>\n",
       "</table>\n",
       "</div>"
      ],
      "text/plain": [
       "   ROUND(100,2)\n",
       "0           100"
      ]
     },
     "execution_count": 4,
     "metadata": {},
     "output_type": "execute_result"
    }
   ],
   "source": [
    "\n",
    "#! 四捨五入100 到小數點二位\n",
    "#!  遇到整數會出現此問題要用formart(Bigquery)指定小數點比較保險\n",
    "\n",
    "sql_query = \"\"\"\n",
    "SELECT \n",
    "            ROUND(100,2)\n",
    "\"\"\"\n",
    "\n",
    "df = pd.read_sql_query(\n",
    "    sql_query,\n",
    "    mydb)\n",
    "df"
   ]
  },
  {
   "cell_type": "code",
   "execution_count": 5,
   "metadata": {},
   "outputs": [
    {
     "data": {
      "text/html": [
       "<div>\n",
       "<style scoped>\n",
       "    .dataframe tbody tr th:only-of-type {\n",
       "        vertical-align: middle;\n",
       "    }\n",
       "\n",
       "    .dataframe tbody tr th {\n",
       "        vertical-align: top;\n",
       "    }\n",
       "\n",
       "    .dataframe thead th {\n",
       "        text-align: right;\n",
       "    }\n",
       "</style>\n",
       "<table border=\"1\" class=\"dataframe\">\n",
       "  <thead>\n",
       "    <tr style=\"text-align: right;\">\n",
       "      <th></th>\n",
       "      <th>TRUNCATE(2.465,1)</th>\n",
       "    </tr>\n",
       "  </thead>\n",
       "  <tbody>\n",
       "    <tr>\n",
       "      <th>0</th>\n",
       "      <td>2.4</td>\n",
       "    </tr>\n",
       "  </tbody>\n",
       "</table>\n",
       "</div>"
      ],
      "text/plain": [
       "   TRUNCATE(2.465,1)\n",
       "0                2.4"
      ]
     },
     "execution_count": 5,
     "metadata": {},
     "output_type": "execute_result"
    }
   ],
   "source": [
    "\n",
    "#! 四捨五入100 到小數點二位\n",
    "#!  遇到整數會出現此問題要用formart(Bigquery)指定小數點比較保險\n",
    "#!                                                      TRUNCATE(Mysql)\n",
    "#!                                                      TRUNC(Bigquery)\n",
    "sql_query = \"\"\"\n",
    "SELECT TRUNCATE(2.465,1);\n",
    "\"\"\"\n",
    "\n",
    "df = pd.read_sql_query(\n",
    "    sql_query,\n",
    "    mydb)\n",
    "df"
   ]
  },
  {
   "cell_type": "code",
   "execution_count": 6,
   "metadata": {},
   "outputs": [
    {
     "data": {
      "text/html": [
       "<div>\n",
       "<style scoped>\n",
       "    .dataframe tbody tr th:only-of-type {\n",
       "        vertical-align: middle;\n",
       "    }\n",
       "\n",
       "    .dataframe tbody tr th {\n",
       "        vertical-align: top;\n",
       "    }\n",
       "\n",
       "    .dataframe thead th {\n",
       "        text-align: right;\n",
       "    }\n",
       "</style>\n",
       "<table border=\"1\" class=\"dataframe\">\n",
       "  <thead>\n",
       "    <tr style=\"text-align: right;\">\n",
       "      <th></th>\n",
       "      <th>dept</th>\n",
       "      <th>avg_age</th>\n",
       "    </tr>\n",
       "  </thead>\n",
       "  <tbody>\n",
       "    <tr>\n",
       "      <th>0</th>\n",
       "      <td>Marketing</td>\n",
       "      <td>42.75</td>\n",
       "    </tr>\n",
       "    <tr>\n",
       "      <th>1</th>\n",
       "      <td>PR</td>\n",
       "      <td>41.00</td>\n",
       "    </tr>\n",
       "    <tr>\n",
       "      <th>2</th>\n",
       "      <td>Finance</td>\n",
       "      <td>39.33</td>\n",
       "    </tr>\n",
       "    <tr>\n",
       "      <th>3</th>\n",
       "      <td>IT</td>\n",
       "      <td>37.60</td>\n",
       "    </tr>\n",
       "    <tr>\n",
       "      <th>4</th>\n",
       "      <td>Operations management</td>\n",
       "      <td>42.67</td>\n",
       "    </tr>\n",
       "    <tr>\n",
       "      <th>5</th>\n",
       "      <td>Human Resource</td>\n",
       "      <td>52.00</td>\n",
       "    </tr>\n",
       "  </tbody>\n",
       "</table>\n",
       "</div>"
      ],
      "text/plain": [
       "                    dept  avg_age\n",
       "0              Marketing    42.75\n",
       "1                     PR    41.00\n",
       "2                Finance    39.33\n",
       "3                     IT    37.60\n",
       "4  Operations management    42.67\n",
       "5         Human Resource    52.00"
      ]
     },
     "execution_count": 6,
     "metadata": {},
     "output_type": "execute_result"
    }
   ],
   "source": [
    "# find the average age of each dept.\n",
    "# make avg_age has 2 decimal places\n",
    "sql_query = \"\"\"\n",
    "SELECT dept , round(avg(age), 2) as avg_age\n",
    "FROM employees\n",
    "GROUP BY dept;\n",
    "\"\"\"\n",
    "\n",
    "df = pd.read_sql_query(\n",
    "    sql_query,\n",
    "    mydb)\n",
    "df"
   ]
  },
  {
   "cell_type": "code",
   "execution_count": 7,
   "metadata": {},
   "outputs": [
    {
     "data": {
      "text/html": [
       "<div>\n",
       "<style scoped>\n",
       "    .dataframe tbody tr th:only-of-type {\n",
       "        vertical-align: middle;\n",
       "    }\n",
       "\n",
       "    .dataframe tbody tr th {\n",
       "        vertical-align: top;\n",
       "    }\n",
       "\n",
       "    .dataframe thead th {\n",
       "        text-align: right;\n",
       "    }\n",
       "</style>\n",
       "<table border=\"1\" class=\"dataframe\">\n",
       "  <thead>\n",
       "    <tr style=\"text-align: right;\">\n",
       "      <th></th>\n",
       "      <th>dept</th>\n",
       "      <th>avg_age</th>\n",
       "    </tr>\n",
       "  </thead>\n",
       "  <tbody>\n",
       "    <tr>\n",
       "      <th>0</th>\n",
       "      <td>Marketing</td>\n",
       "      <td>43.0</td>\n",
       "    </tr>\n",
       "    <tr>\n",
       "      <th>1</th>\n",
       "      <td>PR</td>\n",
       "      <td>41.0</td>\n",
       "    </tr>\n",
       "    <tr>\n",
       "      <th>2</th>\n",
       "      <td>Finance</td>\n",
       "      <td>39.0</td>\n",
       "    </tr>\n",
       "    <tr>\n",
       "      <th>3</th>\n",
       "      <td>IT</td>\n",
       "      <td>38.0</td>\n",
       "    </tr>\n",
       "    <tr>\n",
       "      <th>4</th>\n",
       "      <td>Operations management</td>\n",
       "      <td>43.0</td>\n",
       "    </tr>\n",
       "    <tr>\n",
       "      <th>5</th>\n",
       "      <td>Human Resource</td>\n",
       "      <td>52.0</td>\n",
       "    </tr>\n",
       "  </tbody>\n",
       "</table>\n",
       "</div>"
      ],
      "text/plain": [
       "                    dept  avg_age\n",
       "0              Marketing     43.0\n",
       "1                     PR     41.0\n",
       "2                Finance     39.0\n",
       "3                     IT     38.0\n",
       "4  Operations management     43.0\n",
       "5         Human Resource     52.0"
      ]
     },
     "execution_count": 7,
     "metadata": {},
     "output_type": "execute_result"
    }
   ],
   "source": [
    "# find the average age of each dept.\n",
    "# make avg_age has 2 decimal places\n",
    "#! in default round() has no decimals \n",
    "sql_query = \"\"\"\n",
    "SELECT dept , round(avg(age)) as avg_age\n",
    "FROM employees\n",
    "GROUP BY dept;\n",
    "\"\"\"\n",
    "\n",
    "df = pd.read_sql_query(\n",
    "    sql_query,\n",
    "    mydb)\n",
    "df"
   ]
  },
  {
   "cell_type": "code",
   "execution_count": 8,
   "metadata": {},
   "outputs": [
    {
     "data": {
      "text/html": [
       "<div>\n",
       "<style scoped>\n",
       "    .dataframe tbody tr th:only-of-type {\n",
       "        vertical-align: middle;\n",
       "    }\n",
       "\n",
       "    .dataframe tbody tr th {\n",
       "        vertical-align: top;\n",
       "    }\n",
       "\n",
       "    .dataframe thead th {\n",
       "        text-align: right;\n",
       "    }\n",
       "</style>\n",
       "<table border=\"1\" class=\"dataframe\">\n",
       "  <thead>\n",
       "    <tr style=\"text-align: right;\">\n",
       "      <th></th>\n",
       "      <th>dept</th>\n",
       "      <th>avg_age</th>\n",
       "    </tr>\n",
       "  </thead>\n",
       "  <tbody>\n",
       "    <tr>\n",
       "      <th>0</th>\n",
       "      <td>Marketing</td>\n",
       "      <td>43.0</td>\n",
       "    </tr>\n",
       "    <tr>\n",
       "      <th>1</th>\n",
       "      <td>PR</td>\n",
       "      <td>41.0</td>\n",
       "    </tr>\n",
       "    <tr>\n",
       "      <th>2</th>\n",
       "      <td>Finance</td>\n",
       "      <td>39.0</td>\n",
       "    </tr>\n",
       "    <tr>\n",
       "      <th>3</th>\n",
       "      <td>IT</td>\n",
       "      <td>38.0</td>\n",
       "    </tr>\n",
       "    <tr>\n",
       "      <th>4</th>\n",
       "      <td>Operations management</td>\n",
       "      <td>43.0</td>\n",
       "    </tr>\n",
       "    <tr>\n",
       "      <th>5</th>\n",
       "      <td>Human Resource</td>\n",
       "      <td>52.0</td>\n",
       "    </tr>\n",
       "  </tbody>\n",
       "</table>\n",
       "</div>"
      ],
      "text/plain": [
       "                    dept  avg_age\n",
       "0              Marketing     43.0\n",
       "1                     PR     41.0\n",
       "2                Finance     39.0\n",
       "3                     IT     38.0\n",
       "4  Operations management     43.0\n",
       "5         Human Resource     52.0"
      ]
     },
     "execution_count": 8,
     "metadata": {},
     "output_type": "execute_result"
    }
   ],
   "source": [
    "# in workbench\n",
    "# in default round()\n",
    "# is no decimal \n",
    "#!  its coz of panda dataframe\n",
    "\n",
    "sql_query = \"\"\"\n",
    "select dept, round(avg(age)) as avg_age\n",
    "from employees\n",
    "group by dept;\n",
    "\"\"\"\n",
    "\n",
    "df = pd.read_sql_query(\n",
    "    sql_query,\n",
    "    mydb)\n",
    "df"
   ]
  },
  {
   "cell_type": "code",
   "execution_count": 9,
   "metadata": {},
   "outputs": [
    {
     "name": "stdout",
     "output_type": "stream",
     "text": [
      "('Marketing', Decimal('43'))\n",
      "('PR', Decimal('41'))\n",
      "('Finance', Decimal('39'))\n",
      "('IT', Decimal('38'))\n",
      "('Operations management', Decimal('43'))\n",
      "('Human Resource', Decimal('52'))\n"
     ]
    }
   ],
   "source": [
    "# wo using panda\n",
    "# then avg() has no decimal place\n",
    "cursor = mydb.cursor()\n",
    "sql_query = \"\"\"\n",
    "select dept, round(avg(age)) as avg_age\n",
    "from employees\n",
    "group by dept;\n",
    "\"\"\"\n",
    "# execute sql query\n",
    "cursor.execute(sql_query)\n",
    "\n",
    "#using for loop for reading data\n",
    "for x in cursor:\n",
    "    #print(type(x))\n",
    "    print(x)   #<class 'tuple'>\n",
    "\n"
   ]
  },
  {
   "cell_type": "code",
   "execution_count": 11,
   "metadata": {},
   "outputs": [
    {
     "data": {
      "text/html": [
       "<div>\n",
       "<style scoped>\n",
       "    .dataframe tbody tr th:only-of-type {\n",
       "        vertical-align: middle;\n",
       "    }\n",
       "\n",
       "    .dataframe tbody tr th {\n",
       "        vertical-align: top;\n",
       "    }\n",
       "\n",
       "    .dataframe thead th {\n",
       "        text-align: right;\n",
       "    }\n",
       "</style>\n",
       "<table border=\"1\" class=\"dataframe\">\n",
       "  <thead>\n",
       "    <tr style=\"text-align: right;\">\n",
       "      <th></th>\n",
       "      <th>round(123.456)</th>\n",
       "    </tr>\n",
       "  </thead>\n",
       "  <tbody>\n",
       "    <tr>\n",
       "      <th>0</th>\n",
       "      <td>123.0</td>\n",
       "    </tr>\n",
       "  </tbody>\n",
       "</table>\n",
       "</div>"
      ],
      "text/plain": [
       "   round(123.456)\n",
       "0           123.0"
      ]
     },
     "execution_count": 11,
     "metadata": {},
     "output_type": "execute_result"
    }
   ],
   "source": [
    "# in workbench\n",
    "# in default round()\n",
    "# is no decimal \n",
    "#!  its coz of panda dataframe\n",
    "\n",
    "sql_query = \"\"\"\n",
    "select\n",
    "round(123.456)\n",
    "\"\"\"\n",
    "\n",
    "df = pd.read_sql_query(\n",
    "    sql_query,\n",
    "    mydb)\n",
    "df"
   ]
  },
  {
   "cell_type": "code",
   "execution_count": 12,
   "metadata": {},
   "outputs": [
    {
     "data": {
      "text/html": [
       "<div>\n",
       "<style scoped>\n",
       "    .dataframe tbody tr th:only-of-type {\n",
       "        vertical-align: middle;\n",
       "    }\n",
       "\n",
       "    .dataframe tbody tr th {\n",
       "        vertical-align: top;\n",
       "    }\n",
       "\n",
       "    .dataframe thead th {\n",
       "        text-align: right;\n",
       "    }\n",
       "</style>\n",
       "<table border=\"1\" class=\"dataframe\">\n",
       "  <thead>\n",
       "    <tr style=\"text-align: right;\">\n",
       "      <th></th>\n",
       "      <th>round(123.56)</th>\n",
       "    </tr>\n",
       "  </thead>\n",
       "  <tbody>\n",
       "    <tr>\n",
       "      <th>0</th>\n",
       "      <td>124.0</td>\n",
       "    </tr>\n",
       "  </tbody>\n",
       "</table>\n",
       "</div>"
      ],
      "text/plain": [
       "   round(123.56)\n",
       "0          124.0"
      ]
     },
     "execution_count": 12,
     "metadata": {},
     "output_type": "execute_result"
    }
   ],
   "source": [
    "# in workbench\n",
    "# in default round()\n",
    "# is no decimal \n",
    "#!  its coz of panda dataframe\n",
    "\n",
    "sql_query = \"\"\"\n",
    "select\n",
    "round(123.56)\n",
    "\"\"\"\n",
    "\n",
    "df = pd.read_sql_query(\n",
    "    sql_query,\n",
    "    mydb)\n",
    "df"
   ]
  }
 ],
 "metadata": {
  "kernelspec": {
   "display_name": "Python 3.10.4 64-bit",
   "language": "python",
   "name": "python3"
  },
  "language_info": {
   "codemirror_mode": {
    "name": "ipython",
    "version": 3
   },
   "file_extension": ".py",
   "mimetype": "text/x-python",
   "name": "python",
   "nbconvert_exporter": "python",
   "pygments_lexer": "ipython3",
   "version": "3.8.10"
  },
  "orig_nbformat": 4,
  "vscode": {
   "interpreter": {
    "hash": "916dbcbb3f70747c44a77c7bcd40155683ae19c65e1c03b4aa3499c5328201f1"
   }
  }
 },
 "nbformat": 4,
 "nbformat_minor": 2
}
