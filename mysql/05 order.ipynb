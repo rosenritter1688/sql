{
 "cells": [
  {
   "cell_type": "code",
   "execution_count": 1,
   "metadata": {},
   "outputs": [
    {
     "name": "stdout",
     "output_type": "stream",
     "text": [
      "<mysql.connector.connection.MySQLConnection object at 0x7f8305d6c730>\n"
     ]
    }
   ],
   "source": [
    "import mysql.connector as sql\n",
    "import pandas as pd\n",
    "\n",
    "# auth_plugin is needed, can check by commends \n",
    "# SELECT user,authentication_string,plugin,host FROM mysql.user;\n",
    "# check the columns plugin and user\n",
    "\n",
    "mydb = sql.connect (\n",
    "    host = \"localhost\",\n",
    "    user = \"root\",\n",
    "    password = \"ZAQs8271911c$\",\n",
    "    auth_plugin='mysql_native_password',\n",
    "    database = \"sql_intro\",\n",
    "    buffered = True             # Unread result found issue\n",
    ")                                              # if using pandas no need to use buffer\n",
    "\n",
    "print(mydb)\n"
   ]
  },
  {
   "cell_type": "markdown",
   "metadata": {},
   "source": [
    "# order \n",
    "##### ASC and DESC\n",
    "##### ASC is by default"
   ]
  },
  {
   "cell_type": "code",
   "execution_count": 3,
   "metadata": {},
   "outputs": [
    {
     "name": "stderr",
     "output_type": "stream",
     "text": [
      "/home/bruce/.local/lib/python3.10/site-packages/pandas/io/sql.py:761: UserWarning: pandas only support SQLAlchemy connectable(engine/connection) ordatabase string URI or sqlite3 DBAPI2 connectionother DBAPI2 objects are not tested, please consider using SQLAlchemy\n",
      "  warnings.warn(\n"
     ]
    },
    {
     "data": {
      "text/html": [
       "<div>\n",
       "<style scoped>\n",
       "    .dataframe tbody tr th:only-of-type {\n",
       "        vertical-align: middle;\n",
       "    }\n",
       "\n",
       "    .dataframe tbody tr th {\n",
       "        vertical-align: top;\n",
       "    }\n",
       "\n",
       "    .dataframe thead th {\n",
       "        text-align: right;\n",
       "    }\n",
       "</style>\n",
       "<table border=\"1\" class=\"dataframe\">\n",
       "  <thead>\n",
       "    <tr style=\"text-align: right;\">\n",
       "      <th></th>\n",
       "      <th>Name</th>\n",
       "      <th>Age</th>\n",
       "      <th>sex</th>\n",
       "      <th>doj</th>\n",
       "      <th>city</th>\n",
       "      <th>salary</th>\n",
       "    </tr>\n",
       "  </thead>\n",
       "  <tbody>\n",
       "    <tr>\n",
       "      <th>0</th>\n",
       "      <td>Ammy</td>\n",
       "      <td>35</td>\n",
       "      <td>F</td>\n",
       "      <td>2014-12-20</td>\n",
       "      <td>Seattle</td>\n",
       "      <td>80000.0</td>\n",
       "    </tr>\n",
       "    <tr>\n",
       "      <th>1</th>\n",
       "      <td>Sara</td>\n",
       "      <td>32</td>\n",
       "      <td>F</td>\n",
       "      <td>2017-10-27</td>\n",
       "      <td>New York</td>\n",
       "      <td>72000.0</td>\n",
       "    </tr>\n",
       "    <tr>\n",
       "      <th>2</th>\n",
       "      <td>Jimmy</td>\n",
       "      <td>35</td>\n",
       "      <td>M</td>\n",
       "      <td>2005-05-30</td>\n",
       "      <td>Chicago</td>\n",
       "      <td>70000.0</td>\n",
       "    </tr>\n",
       "    <tr>\n",
       "      <th>3</th>\n",
       "      <td>Marry</td>\n",
       "      <td>28</td>\n",
       "      <td>F</td>\n",
       "      <td>2009-03-10</td>\n",
       "      <td>Boston</td>\n",
       "      <td>62000.0</td>\n",
       "    </tr>\n",
       "    <tr>\n",
       "      <th>4</th>\n",
       "      <td>Dwayne</td>\n",
       "      <td>37</td>\n",
       "      <td>M</td>\n",
       "      <td>2011-07-12</td>\n",
       "      <td>Austin</td>\n",
       "      <td>57000.0</td>\n",
       "    </tr>\n",
       "    <tr>\n",
       "      <th>5</th>\n",
       "      <td>Shane</td>\n",
       "      <td>30</td>\n",
       "      <td>M</td>\n",
       "      <td>1999-06-25</td>\n",
       "      <td>Seattle</td>\n",
       "      <td>55000.0</td>\n",
       "    </tr>\n",
       "  </tbody>\n",
       "</table>\n",
       "</div>"
      ],
      "text/plain": [
       "     Name  Age sex         doj      city   salary\n",
       "0    Ammy   35   F  2014-12-20   Seattle  80000.0\n",
       "1    Sara   32   F  2017-10-27  New York  72000.0\n",
       "2   Jimmy   35   M  2005-05-30   Chicago  70000.0\n",
       "3   Marry   28   F  2009-03-10    Boston  62000.0\n",
       "4  Dwayne   37   M  2011-07-12    Austin  57000.0\n",
       "5   Shane   30   M  1999-06-25   Seattle  55000.0"
      ]
     },
     "execution_count": 3,
     "metadata": {},
     "output_type": "execute_result"
    }
   ],
   "source": [
    "#ORDER DATA IN DESC ORDER\n",
    "\"\"\"emp_details\n",
    "Name\tAge\tsex\tdoj\tcity\tsalary\n",
    "0\tJimmy\t   35\tM\t 2005-05-30\tChicago\t    70000.0\n",
    "1\tShane\t    30\t M\t 1999-06-25\tSeattle\t      55000.0\n",
    "2\tMarry\t    28\t  F\t   2009-03-10 Boston\t   62000.0\n",
    "3\tDwayne\t 37\t  M\t  2011-07-12  Austin\t    57000.0\n",
    "4\tSara\t      32\tF\t 2017-10-27\tNew York\t72000.0\n",
    "5\tAmmy\t  35\tF\t 2014-12-20\tSeattle\t       80000.0\n",
    "\"\"\"\n",
    "\n",
    "sql_query = \"\"\"\n",
    "select *\n",
    "from emp_details\n",
    "ORDER BY salary\n",
    "DESC;\n",
    "\"\"\"\n",
    "\n",
    "df = pd.read_sql_query(\n",
    "    sql_query,\n",
    "    mydb)\n",
    "df"
   ]
  }
 ],
 "metadata": {
  "kernelspec": {
   "display_name": "Python 3",
   "language": "python",
   "name": "python3"
  },
  "language_info": {
   "codemirror_mode": {
    "name": "ipython",
    "version": 3
   },
   "file_extension": ".py",
   "mimetype": "text/x-python",
   "name": "python",
   "nbconvert_exporter": "python",
   "pygments_lexer": "ipython3",
   "version": "3.10.7"
  },
  "orig_nbformat": 4,
  "vscode": {
   "interpreter": {
    "hash": "3e748360335f2bf9c5c12ffe143cd93812385ddcb6c3d461a4ee3fa3233acffe"
   }
  }
 },
 "nbformat": 4,
 "nbformat_minor": 2
}
