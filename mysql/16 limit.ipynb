{
 "cells": [
  {
   "cell_type": "code",
   "execution_count": 10,
   "metadata": {},
   "outputs": [],
   "source": [
    "# LIMIT\n",
    "#? WORKS IN MYSQL AND BIGQUERY\n",
    "\n",
    "import mysql.connector as sql\n",
    "import pandas as pd\n",
    "\n",
    "mydb = sql.connect (\n",
    "    host = \"localhost\",\n",
    "    user = \"root\",\n",
    "    password = \"ZAQs8271911c$\",\n",
    "    auth_plugin='mysql_native_password',\n",
    "    buffered = True,          # using this for reading table, panda dont need it\n",
    "    #multi=True,                 # if wanna use mulitple query\n",
    "    database = \"sql_intro\"\n",
    ")\n",
    "\n",
    "# auth_plugin is needed, can check by commends \n",
    "# SELECT user,authentication_string,plugin,host FROM mysql.user;\n",
    "# check the columns plugin and user\n",
    "\n",
    "\n",
    "#? only execute sql query wo passing data to panda dataframe\n",
    "# mycoursor = mydb.cursor()\n",
    "# mycoursor.execute(\n",
    "#     \"\"\"\n",
    "#     #! create database\n",
    "#     create database if not exists database_name;\n",
    "#     \"\"\"\n",
    "# )\n",
    "\n",
    "\n",
    "#? execute sql query  AND  passing data to panda dataframe\n",
    "# edit sql query here\n",
    "sql_query = \"\"\"\n",
    "select * \n",
    "from employees\n",
    "\"\"\"\n",
    "# run sql queries and Importing data from a MySQL database \n",
    "# into Pandas data frame\n",
    "\n",
    "df = pd.read_sql_query(\n",
    "    sql_query,\n",
    "    mydb)\n",
    "\n",
    "\n",
    "# mydb.close() for closing connection\n"
   ]
  },
  {
   "cell_type": "markdown",
   "metadata": {},
   "source": [
    "# limit\n",
    "### just like pandas head()"
   ]
  },
  {
   "cell_type": "code",
   "execution_count": 13,
   "metadata": {},
   "outputs": [
    {
     "name": "stderr",
     "output_type": "stream",
     "text": [
      "/home/bruce/.local/lib/python3.10/site-packages/pandas/io/sql.py:761: UserWarning: pandas only support SQLAlchemy connectable(engine/connection) ordatabase string URI or sqlite3 DBAPI2 connectionother DBAPI2 objects are not tested, please consider using SQLAlchemy\n",
      "  warnings.warn(\n"
     ]
    },
    {
     "data": {
      "text/html": [
       "<div>\n",
       "<style scoped>\n",
       "    .dataframe tbody tr th:only-of-type {\n",
       "        vertical-align: middle;\n",
       "    }\n",
       "\n",
       "    .dataframe tbody tr th {\n",
       "        vertical-align: top;\n",
       "    }\n",
       "\n",
       "    .dataframe thead th {\n",
       "        text-align: right;\n",
       "    }\n",
       "</style>\n",
       "<table border=\"1\" class=\"dataframe\">\n",
       "  <thead>\n",
       "    <tr style=\"text-align: right;\">\n",
       "      <th></th>\n",
       "      <th>Name</th>\n",
       "      <th>Age</th>\n",
       "      <th>sex</th>\n",
       "      <th>doj</th>\n",
       "      <th>city</th>\n",
       "      <th>salary</th>\n",
       "    </tr>\n",
       "  </thead>\n",
       "  <tbody>\n",
       "    <tr>\n",
       "      <th>0</th>\n",
       "      <td>Jimmy</td>\n",
       "      <td>35</td>\n",
       "      <td>M</td>\n",
       "      <td>2005-05-30</td>\n",
       "      <td>Chicago</td>\n",
       "      <td>70000.0</td>\n",
       "    </tr>\n",
       "    <tr>\n",
       "      <th>1</th>\n",
       "      <td>Shane</td>\n",
       "      <td>30</td>\n",
       "      <td>M</td>\n",
       "      <td>1999-06-25</td>\n",
       "      <td>Seattle</td>\n",
       "      <td>55000.0</td>\n",
       "    </tr>\n",
       "    <tr>\n",
       "      <th>2</th>\n",
       "      <td>Marry</td>\n",
       "      <td>28</td>\n",
       "      <td>F</td>\n",
       "      <td>2009-03-10</td>\n",
       "      <td>Boston</td>\n",
       "      <td>62000.0</td>\n",
       "    </tr>\n",
       "    <tr>\n",
       "      <th>3</th>\n",
       "      <td>Dwayne</td>\n",
       "      <td>37</td>\n",
       "      <td>M</td>\n",
       "      <td>2011-07-12</td>\n",
       "      <td>Austin</td>\n",
       "      <td>57000.0</td>\n",
       "    </tr>\n",
       "    <tr>\n",
       "      <th>4</th>\n",
       "      <td>Sara</td>\n",
       "      <td>32</td>\n",
       "      <td>F</td>\n",
       "      <td>2017-10-27</td>\n",
       "      <td>New York</td>\n",
       "      <td>72000.0</td>\n",
       "    </tr>\n",
       "  </tbody>\n",
       "</table>\n",
       "</div>"
      ],
      "text/plain": [
       "     Name  Age sex         doj      city   salary\n",
       "0   Jimmy   35   M  2005-05-30   Chicago  70000.0\n",
       "1   Shane   30   M  1999-06-25   Seattle  55000.0\n",
       "2   Marry   28   F  2009-03-10    Boston  62000.0\n",
       "3  Dwayne   37   M  2011-07-12    Austin  57000.0\n",
       "4    Sara   32   F  2017-10-27  New York  72000.0"
      ]
     },
     "execution_count": 13,
     "metadata": {},
     "output_type": "execute_result"
    }
   ],
   "source": [
    "sql_query = \"\"\"\n",
    "SELECT *\n",
    "FROM emp_details\n",
    "LIMIT 5;\n",
    "\"\"\"\n",
    "#! limit 5 means only show 5 records from the top\n",
    "\n",
    "df = pd.read_sql_query(\n",
    "    sql_query,\n",
    "    mydb)\n",
    "df\n"
   ]
  }
 ],
 "metadata": {
  "kernelspec": {
   "display_name": "Python 3.10.4 64-bit",
   "language": "python",
   "name": "python3"
  },
  "language_info": {
   "codemirror_mode": {
    "name": "ipython",
    "version": 3
   },
   "file_extension": ".py",
   "mimetype": "text/x-python",
   "name": "python",
   "nbconvert_exporter": "python",
   "pygments_lexer": "ipython3",
   "version": "3.8.10"
  },
  "orig_nbformat": 4,
  "vscode": {
   "interpreter": {
    "hash": "916dbcbb3f70747c44a77c7bcd40155683ae19c65e1c03b4aa3499c5328201f1"
   }
  }
 },
 "nbformat": 4,
 "nbformat_minor": 2
}
