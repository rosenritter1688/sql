{
 "cells": [
  {
   "cell_type": "markdown",
   "metadata": {},
   "source": [
    "## avoid error 1364 Field '' doesnt have a default value\n",
    "## column is set to not null and that column's value is not given\n"
   ]
  },
  {
   "cell_type": "code",
   "execution_count": 9,
   "metadata": {},
   "outputs": [
    {
     "name": "stdout",
     "output_type": "stream",
     "text": [
      "tables cats2 is created or its exists\n",
      "data inserted\n",
      "('KITTY', 0)\n",
      "('UNKNOW', 0)\n",
      "('KITTY', 0)\n",
      "('KITTY', 0)\n",
      "('KITTY', 0)\n",
      "('KITTY', 0)\n",
      "('KITTY', 0)\n",
      "('KITTY', 0)\n"
     ]
    }
   ],
   "source": [
    "import mysql.connector\n",
    "\n",
    "try:\n",
    "    mydb = mysql.connector.connect(\n",
    "        host = 'localhost',\n",
    "        user = 'root',\n",
    "        password = 'Zs8271911c',\n",
    "        auth_plugin = 'mysql_native_password',\n",
    "        database = 'sql_p'\n",
    "    )\n",
    "\n",
    "    my_cursor = mydb.cursor()\n",
    "    my_cursor.execute('''\n",
    "    CREATE TABLE IF NOT EXISTS cats2\n",
    "\t\t\t(name VARCHAR(20) NOT NULL DEFAULT 'UNKNOW',\n",
    "             age INT UNSIGNED NOT NULL DEFAULT 0\n",
    "\t\t\t);\n",
    "                      ''')\n",
    "    \n",
    "    print('tables cats2 is created or its exists')\n",
    "    \n",
    "    #! even column name and age is set NOT NULL but with default setting on both columns\n",
    "    #! we can only insert data of 1 column only and get no error message\n",
    "    my_cursor.execute('''\n",
    "    INSERT INTO cats2 (name)\n",
    "    VALUES ('KITTY');\n",
    "                      ''')\n",
    "    \n",
    "    print('data inserted')\n",
    "    \n",
    "    ## commit changes to mysql database\n",
    "    mydb.commit()\n",
    "\n",
    "    my_cursor.execute('''\n",
    "    select * from cats2\n",
    "                      ''')\n",
    "\n",
    "\n",
    "except Exception as error_msg:\n",
    "    print(str(error_msg))\n",
    "\n",
    "for x in my_cursor:\n",
    "    print(x)\n",
    "    \n"
   ]
  }
 ],
 "metadata": {
  "kernelspec": {
   "display_name": "Python 3",
   "language": "python",
   "name": "python3"
  },
  "language_info": {
   "codemirror_mode": {
    "name": "ipython",
    "version": 3
   },
   "file_extension": ".py",
   "mimetype": "text/x-python",
   "name": "python",
   "nbconvert_exporter": "python",
   "pygments_lexer": "ipython3",
   "version": "3.11.4"
  },
  "orig_nbformat": 4
 },
 "nbformat": 4,
 "nbformat_minor": 2
}
