{
 "cells": [
  {
   "cell_type": "markdown",
   "metadata": {},
   "source": [
    "## table cats2 has 2 columns name and age\n",
    "## we can only insert a data with 1 column only"
   ]
  },
  {
   "cell_type": "code",
   "execution_count": 2,
   "metadata": {},
   "outputs": [
    {
     "name": "stdout",
     "output_type": "stream",
     "text": [
      "KITTY 0\n",
      "UNKNOW 0\n",
      "KITTY 0\n",
      "KITTY 0\n",
      "KITTY 0\n",
      "KITTY 0\n",
      "KITTY 0\n",
      "KITTY 0\n",
      "mario 's pizza  0\n",
      "mario's pizza  0\n",
      "jerry 0\n",
      "jerry 0\n"
     ]
    }
   ],
   "source": [
    "import mysql.connector\n",
    "\n",
    "try:\n",
    "    mydb = mysql.connector.connect(\n",
    "        host = 'localhost',\n",
    "        user = 'root',\n",
    "        password = 'Zs8271911c',\n",
    "        auth_plugin = 'mysql_native_password',\n",
    "        database = 'sql_p'\n",
    "    )\n",
    "\n",
    "    my_cursor = mydb.cursor()\n",
    "\n",
    "    my_cursor.execute('''\n",
    "    INSERT INTO cats2 ( name )\n",
    "               VALUES ( 'jerry' );\n",
    "                      ''')\n",
    "    mydb.commit()\n",
    "\n",
    "\n",
    "    my_cursor.execute('''\n",
    "    SELECT * FROM cats2\n",
    "                      ''')\n",
    "    for x,y in my_cursor:\n",
    "        print(x,y)\n",
    "except Exception as error_msg:\n",
    "    print(str(error_msg))"
   ]
  }
 ],
 "metadata": {
  "kernelspec": {
   "display_name": "Python 3",
   "language": "python",
   "name": "python3"
  },
  "language_info": {
   "codemirror_mode": {
    "name": "ipython",
    "version": 3
   },
   "file_extension": ".py",
   "mimetype": "text/x-python",
   "name": "python",
   "nbconvert_exporter": "python",
   "pygments_lexer": "ipython3",
   "version": "3.11.4"
  },
  "orig_nbformat": 4
 },
 "nbformat": 4,
 "nbformat_minor": 2
}
