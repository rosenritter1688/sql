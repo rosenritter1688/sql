{
 "cells": [
  {
   "cell_type": "markdown",
   "metadata": {},
   "source": [
    "### restart mysql serve\n",
    "##### Open 'Run' Window by using Win key + R.\n",
    "##### Type 'services.msc'\n",
    "##### Now search for MySQL service based on the version that is installed.\n",
    "##### Click on 'stop', 'start' or 'restart' the service option."
   ]
  },
  {
   "cell_type": "markdown",
   "metadata": {},
   "source": [
    "# command promote method\n",
    "\n",
    "## step 1\n",
    "### RUN < win + R > services.msc\n",
    "### look for mysql80 >> coz could be  its version this case its MySQL Server 8.0\n",
    "\n",
    "## step 2\n",
    "### in command promote\n",
    "### net stop mysql80\n",
    "\n",
    "\n",
    "## step 3\n",
    "### in command promote\n",
    "### net start mysql80\n"
   ]
  },
  {
   "cell_type": "markdown",
   "metadata": {},
   "source": [
    "# command promote method\n",
    "\n",
    "## step 1\n",
    "### look for bin folder location\n",
    "### C:\\Program Files\\MySQL\\MySQL Server 8.0\\bin\n",
    "\n",
    "## step 2\n",
    "### in command promote\n",
    "### set path=%PATH%;set path=%PATH%;C:\\Program Files\\MySQL\\MySQL Server 8.0\\bin\n"
   ]
  },
  {
   "cell_type": "code",
   "execution_count": null,
   "metadata": {},
   "outputs": [],
   "source": []
  }
 ],
 "metadata": {
  "language_info": {
   "name": "python"
  },
  "orig_nbformat": 4
 },
 "nbformat": 4,
 "nbformat_minor": 2
}
