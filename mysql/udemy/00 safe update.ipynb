{
 "cells": [
  {
   "cell_type": "markdown",
   "metadata": {},
   "source": [
    "## in mysql workbench or mysql 8.0 command line client\n",
    "\n",
    "```\n",
    "show variables like '%safe_updates%';\n",
    "-- OR\n",
    "show variables like 'sql_safe_updates';\n",
    "\n",
    "set sql_safe_updates=0;   ## close safe updates\n",
    "set sql_safe_updates=1;   ## open safe updates\n",
    "```\n",
    "\n",
    "## restart mysql server\n",
    "## in command promopt\n",
    "\n",
    "## net stop mysql80\n",
    "## net start mysql80"
   ]
  }
 ],
 "metadata": {
  "kernelspec": {
   "display_name": "Python 3",
   "language": "python",
   "name": "python3"
  },
  "language_info": {
   "codemirror_mode": {
    "name": "ipython",
    "version": 3
   },
   "file_extension": ".py",
   "mimetype": "text/x-python",
   "name": "python",
   "nbconvert_exporter": "python",
   "pygments_lexer": "ipython3",
   "version": "3.11.4"
  },
  "orig_nbformat": 4
 },
 "nbformat": 4,
 "nbformat_minor": 2
}
