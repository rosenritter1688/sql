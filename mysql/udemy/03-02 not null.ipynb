{
 "cells": [
  {
   "cell_type": "markdown",
   "metadata": {},
   "source": [
    "### null is allowed by default\n",
    "\n",
    "## have to set null not allow by manully"
   ]
  },
  {
   "cell_type": "code",
   "execution_count": 1,
   "metadata": {},
   "outputs": [],
   "source": [
    "import mysql.connector\n",
    "\n",
    "try:\n",
    "    mydb = mysql.connector.connect(\n",
    "        host = 'localhost',\n",
    "        user = 'root',\n",
    "        password = 'Zs8271911c',\n",
    "        auth_plugin = 'mysql_native_password',\n",
    "        database = 'sql_p'\n",
    "    )\n",
    "\n",
    "    my_cursor = mydb.cursor()\n",
    "    my_cursor.execute('''\n",
    "    CREATE TABLE IF NOT EXISTS cats (   \n",
    "                                    name VARCHAR(30) NOT NULL,\n",
    "                                    age INT UNSIGNED NOT NULL\n",
    "                                    )\n",
    "                      ''')\n",
    "except Exception as error_msg:\n",
    "    print(str(error_msg))"
   ]
  },
  {
   "cell_type": "markdown",
   "metadata": {},
   "source": [
    "## testing insert a data to table cats with NULL value"
   ]
  },
  {
   "cell_type": "code",
   "execution_count": 2,
   "metadata": {},
   "outputs": [
    {
     "name": "stdout",
     "output_type": "stream",
     "text": [
      "1364 (HY000): Field 'age' doesn't have a default value\n"
     ]
    }
   ],
   "source": [
    "import mysql.connector \n",
    "try:\n",
    "    mydb = mysql.connector.connect(\n",
    "        host = 'localhost',\n",
    "        user = 'root',\n",
    "        password = 'Zs8271911c',\n",
    "        auth_plugin = 'mysql_native_password',\n",
    "        database = 'sql_p'\n",
    "    )\n",
    "    my_cursor = mydb.cursor()\n",
    "\n",
    "    my_cursor.execute('''\n",
    "    INSERT INTO cats (name )\n",
    "              VALUES ('TOM')\n",
    "                     ''')\n",
    "except Exception as error_msg:\n",
    "    print(str(error_msg))\n",
    "\n",
    "    "
   ]
  },
  {
   "cell_type": "markdown",
   "metadata": {},
   "source": [
    "### column age is no null allowed so will show you\n",
    "### 1364 (HY000): Field 'age' doesn't have a default value\n",
    "\n",
    "\n",
    "```sql\n",
    "-- look for those values are null or 0\n",
    "\n",
    "select * from cats\n",
    "\n",
    "where\n",
    "\n",
    "name is null\n",
    "\n",
    "or\n",
    "\n",
    "age = 0;\n",
    "```"
   ]
  },
  {
   "cell_type": "code",
   "execution_count": null,
   "metadata": {},
   "outputs": [],
   "source": []
  },
  {
   "cell_type": "markdown",
   "metadata": {},
   "source": []
  }
 ],
 "metadata": {
  "kernelspec": {
   "display_name": "Python 3",
   "language": "python",
   "name": "python3"
  },
  "language_info": {
   "codemirror_mode": {
    "name": "ipython",
    "version": 3
   },
   "file_extension": ".py",
   "mimetype": "text/x-python",
   "name": "python",
   "nbconvert_exporter": "python",
   "pygments_lexer": "ipython3",
   "version": "3.11.4"
  },
  "orig_nbformat": 4
 },
 "nbformat": 4,
 "nbformat_minor": 2
}
