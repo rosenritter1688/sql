{
 "cells": [
  {
   "cell_type": "markdown",
   "metadata": {},
   "source": [
    "### SET\n",
    "### set a variable\n",
    "```sql\n",
    "SET @first_num = 1,\n",
    "    @end_num = 7;\n",
    "```"
   ]
  },
  {
   "cell_type": "code",
   "execution_count": 52,
   "metadata": {},
   "outputs": [
    {
     "name": "stdout",
     "output_type": "stream",
     "text": [
      "1 Ringo Tabby 4\n",
      "4 Egg Persian 4\n"
     ]
    }
   ],
   "source": [
    "\n",
    "#! sql_connector cant use SET\n",
    "import mysql.connector\n",
    "\n",
    "try : \n",
    "    mydb = mysql.connector.connect(\n",
    "        host='localhost',\n",
    "        user = 'root',\n",
    "        password = 'Zs8271911c',\n",
    "        auth_plugin = 'mysql_native_password',\n",
    "        database = 'sql_p'\n",
    "    )\n",
    "    first_num = 4\n",
    "\n",
    "    my_cursor = mydb.cursor()\n",
    "    query =f'select * from cats where age = {first_num}'          \n",
    "    my_cursor.execute(query)\n",
    "    for x , y , z , h in my_cursor:\n",
    "        print(x , y , z , h )\n",
    "except Exception as error_msg:\n",
    "    print(str(error_msg))"
   ]
  },
  {
   "cell_type": "code",
   "execution_count": null,
   "metadata": {},
   "outputs": [],
   "source": []
  }
 ],
 "metadata": {
  "kernelspec": {
   "display_name": "Python 3",
   "language": "python",
   "name": "python3"
  },
  "language_info": {
   "codemirror_mode": {
    "name": "ipython",
    "version": 3
   },
   "file_extension": ".py",
   "mimetype": "text/x-python",
   "name": "python",
   "nbconvert_exporter": "python",
   "pygments_lexer": "ipython3",
   "version": "3.11.4"
  },
  "orig_nbformat": 4
 },
 "nbformat": 4,
 "nbformat_minor": 2
}
