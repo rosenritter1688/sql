{
 "cells": [
  {
   "cell_type": "markdown",
   "metadata": {},
   "source": [
    "### Update\n",
    "##### how we alter existing data\n",
    "```sql\n",
    "UPDATE table_name SET vaule_wanna_change\n",
    "WHERE value_exists\n",
    "```\n",
    "#### exmaple\n",
    "\n",
    "```sql\n",
    "UPDATE cats SET brees = 'Shorthair'\n",
    "WHERE breed = 'Tabby';\n",
    "\n",
    "```"
   ]
  },
  {
   "cell_type": "code",
   "execution_count": 3,
   "metadata": {},
   "outputs": [
    {
     "name": "stdout",
     "output_type": "stream",
     "text": [
      "1 Ringo Shorthair 4\n",
      "2 Cindy Marine Coon 10\n",
      "3 Dumbledore Marine Coon 11\n",
      "4 Egg Persian 4\n",
      "5 Misty Shorthair 13\n",
      "6 George Michael Ragdoll 9\n",
      "7 Jackson Sphynx 7\n"
     ]
    }
   ],
   "source": [
    "import mysql.connector as connector\n",
    "\n",
    "\n",
    "try:\n",
    "    mydb = connector.connect(\n",
    "        host = 'localhost',\n",
    "        user = 'root',\n",
    "        password = 'Zs8271911c',\n",
    "        auth_plugin = 'mysql_native_password',\n",
    "        database = 'sql_p'\n",
    "    )\n",
    "\n",
    "    cursor = mydb.cursor()\n",
    "\n",
    "    cursor.execute('''\n",
    "    UPDATE cats SET breed = 'Shorthair'\n",
    "    WHERE breed = 'Tabby';\n",
    "                   ''')\n",
    "    mydb.commit()\n",
    "\n",
    "    cursor.execute('''\n",
    "    SELECT * FROM cats;\n",
    "                   ''')\n",
    "    \n",
    "    for cat_id , name , breed , age in cursor:\n",
    "        print( cat_id , name , breed , age)\n",
    "except Exception as error_msg:\n",
    "    print(str(error_msg))"
   ]
  }
 ],
 "metadata": {
  "kernelspec": {
   "display_name": "Python 3",
   "language": "python",
   "name": "python3"
  },
  "language_info": {
   "codemirror_mode": {
    "name": "ipython",
    "version": 3
   },
   "file_extension": ".py",
   "mimetype": "text/x-python",
   "name": "python",
   "nbconvert_exporter": "python",
   "pygments_lexer": "ipython3",
   "version": "3.11.4"
  },
  "orig_nbformat": 4
 },
 "nbformat": 4,
 "nbformat_minor": 2
}
