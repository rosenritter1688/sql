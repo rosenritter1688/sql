{
 "cells": [
  {
   "cell_type": "code",
   "execution_count": null,
   "metadata": {},
   "outputs": [],
   "source": [
    "# primay key is used for make every data unique.\n",
    "# primay key ia a unique identifier"
   ]
  },
  {
   "cell_type": "markdown",
   "metadata": {},
   "source": [
    "## NOT NULL IS REDUNDANT COZ PRIMARY KEY CANNOT BE NULL"
   ]
  },
  {
   "cell_type": "code",
   "execution_count": 1,
   "metadata": {},
   "outputs": [
    {
     "name": "stdout",
     "output_type": "stream",
     "text": [
      "('cat_id', b'int unsigned', 'NO', bytearray(b'PRI'), None, '')\n",
      "('name', b'varchar(30)', 'NO', bytearray(b''), b'UNKNOWN', '')\n",
      "('age', b'int unsigned', 'NO', bytearray(b''), b'0', '')\n"
     ]
    }
   ],
   "source": [
    "import mysql.connector\n",
    "\n",
    "try:\n",
    "    mydb = mysql.connector.connect(\n",
    "        host = 'localhost',\n",
    "        user = 'root',\n",
    "        password = 'Zs8271911c',\n",
    "        auth_plugin = 'mysql_native_password',\n",
    "        database = 'sql_p',\n",
    "    )\n",
    "\n",
    "    my_cursor = mydb.cursor()\n",
    "\n",
    "    my_cursor.execute('''\n",
    "        CREATE TABLE IF NOT EXISTS unique_cats (\n",
    "                      cat_id INT UNSIGNED PRIMARY KEY,\n",
    "                      name VARCHAR(30) NOT NULL DEFAULT 'UNKNOWN',\n",
    "                      age INT UNSIGNED NOT NULL DEFAULT 0\n",
    "                                                );\n",
    "                      )\n",
    "\n",
    "                      ''', multi=True)\n",
    "                           #! Use multi=True when executing multiple statements\n",
    "    my_cursor.execute(\n",
    "        '''\n",
    "        describe unique_cats;   \n",
    "        '''\n",
    "    )\n",
    "    for x in my_cursor:\n",
    "        print(x)\n",
    "\n",
    "except Exception as error_msg:\n",
    "    print(str(error_msg))"
   ]
  },
  {
   "cell_type": "markdown",
   "metadata": {},
   "source": [
    "-- One way of specifying a PRIMARY KEY\n",
    "```sql\n",
    "CREATE TABLE unique_cats (\n",
    "\tcat_id INT PRIMARY KEY,\n",
    "        name VARCHAR(100) NOT NULL,\n",
    "        age INT NOT NULL\n",
    ");\n",
    "\n",
    "```\n",
    "\n",
    "\n",
    "-- Another option:\n",
    "\n",
    "```sql\n",
    "\n",
    "CREATE TABLE unique_cats2 (\n",
    "\tcat_id INT,\n",
    "        name VARCHAR(100) NOT NULL,\n",
    "        age INT NOT NULL,\n",
    "        PRIMARY KEY (cat_id)\n",
    ");\n",
    "\n",
    "```"
   ]
  }
 ],
 "metadata": {
  "kernelspec": {
   "display_name": "Python 3",
   "language": "python",
   "name": "python3"
  },
  "language_info": {
   "codemirror_mode": {
    "name": "ipython",
    "version": 3
   },
   "file_extension": ".py",
   "mimetype": "text/x-python",
   "name": "python",
   "nbconvert_exporter": "python",
   "pygments_lexer": "ipython3",
   "version": "3.11.4"
  },
  "orig_nbformat": 4
 },
 "nbformat": 4,
 "nbformat_minor": 2
}
