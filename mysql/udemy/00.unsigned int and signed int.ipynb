{
 "cells": [
  {
   "cell_type": "markdown",
   "metadata": {},
   "source": [
    "## signed - negative input allowed\n",
    "## unsigned - only positive input allowed"
   ]
  },
  {
   "cell_type": "markdown",
   "metadata": {},
   "source": [
    "| Type  | Storage (bytes)   |  Minimum Value SIGNED | Minimum Value Unsigned  | Maximum Value Signed  | Maximum Value Unsigned  |\n",
    "|---|---|---|---|---|---|\n",
    "| TINYINT   |\t1 \t  | -128   |   \t0 |\t127  |\t255      \n",
    "|  SMALLINT |\t2 |\t-32768 | \t0 |\t32767 |\t65535 \n",
    "| MEDIUMINT |\t3 \t|-8388608 |\t0 |\t8388607 |\t16777215  \n",
    "|  INT |\t4 |\t-2147483648 |\t0 |\t2147483647 |\t4294967295 \n",
    "| BIGINT |\t8 \t|-263 |\t0 \t|263-1 |\t264-1  "
   ]
  },
  {
   "cell_type": "markdown",
   "metadata": {},
   "source": [
    "```sql\n",
    "-- example \n",
    "CREATE TABLE IF NOT EXISTS cats3(\n",
    "\t\t\t\t\t\t\t\tname VARCHAR(30),\n",
    "                                age INT UNSIGNED);\n",
    "                                \n",
    "DESC cats3;\n",
    "\n",
    "\n",
    "INSERT INTO cats3 (age)\n",
    "VALUES (-3);\n",
    "\n",
    "-- WILL GET ERREOR MESSAGE IF YOU ENTER NEGATIVE VALUE\n",
    "\n",
    "-- Error Code: 1264. Out of range value for column 'age' at row 1\n",
    "\n",
    "```"
   ]
  }
 ],
 "metadata": {
  "kernelspec": {
   "display_name": "Python 3",
   "language": "python",
   "name": "python3"
  },
  "language_info": {
   "codemirror_mode": {
    "name": "ipython",
    "version": 3
   },
   "file_extension": ".py",
   "mimetype": "text/x-python",
   "name": "python",
   "nbconvert_exporter": "python",
   "pygments_lexer": "ipython3",
   "version": "3.11.4"
  },
  "orig_nbformat": 4
 },
 "nbformat": 4,
 "nbformat_minor": 2
}
