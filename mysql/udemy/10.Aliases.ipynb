{
 "cells": [
  {
   "cell_type": "markdown",
   "metadata": {},
   "source": [
    "## Aliases\n",
    "#### use Aliases to rename the column or the result of selected table\n",
    "\n",
    "```sql\n",
    "SELECT cat_id AS id, name\n",
    "FROM cats;\n",
    "```"
   ]
  },
  {
   "cell_type": "code",
   "execution_count": 4,
   "metadata": {},
   "outputs": [
    {
     "name": "stdout",
     "output_type": "stream",
     "text": [
      "1 Ringo\n",
      "2 Cindy\n",
      "3 Dumbledore\n",
      "4 Egg\n",
      "5 Misty\n",
      "6 George Michael\n",
      "7 Jackson\n"
     ]
    }
   ],
   "source": [
    "import mysql.connector\n",
    "\n",
    "try :\n",
    "    mydb = mysql.connector.connect(\n",
    "        host = 'localhost',\n",
    "        user = 'root',\n",
    "        password = 'Zs8271911c',\n",
    "        auth_plugin = 'mysql_native_password',\n",
    "        database = 'sql_p'\n",
    "    )\n",
    "\n",
    "    my_cursor = mydb.cursor()\n",
    "    my_cursor.execute('''\n",
    "    SELECT cat_id AS id , name FROM cats\n",
    "                      ''')\n",
    "    \n",
    "    for x , n in my_cursor:\n",
    "        print(x,n)\n",
    "except Exception as error_msg:\n",
    "    print(str(error_msg))"
   ]
  }
 ],
 "metadata": {
  "kernelspec": {
   "display_name": "Python 3",
   "language": "python",
   "name": "python3"
  },
  "language_info": {
   "codemirror_mode": {
    "name": "ipython",
    "version": 3
   },
   "file_extension": ".py",
   "mimetype": "text/x-python",
   "name": "python",
   "nbconvert_exporter": "python",
   "pygments_lexer": "ipython3",
   "version": "3.11.4"
  },
  "orig_nbformat": 4
 },
 "nbformat": 4,
 "nbformat_minor": 2
}
