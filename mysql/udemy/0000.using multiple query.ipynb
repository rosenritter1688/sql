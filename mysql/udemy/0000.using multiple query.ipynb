{
 "cells": [
  {
   "cell_type": "code",
   "execution_count": 12,
   "metadata": {},
   "outputs": [],
   "source": [
    "import mysql.connector\n",
    "mydb = mysql.connector.connect(\n",
    "    host = 'localhost',\n",
    "    user = 'root',\n",
    "    password = 'Zs8271911c',\n",
    "    auth_plugin = 'mysql_native_password',\n",
    "    database = 'sql_p'\n",
    ")\n",
    "\n",
    "table_name = 'test'\n",
    "quries = [\n",
    "          \n",
    "          f'DROP TABLE IF EXISTS {table_name};',\n",
    "          f'CREATE TABLE IF NOT EXISTS {table_name} (res INT, fruit VARCHAR(20));',\n",
    "          \n",
    "        \n",
    "         ]\n",
    "my_cursor = mydb.cursor()\n",
    "for query in quries:\n",
    "    result = my_cursor.execute(query)\n",
    "    \n"
   ]
  },
  {
   "cell_type": "code",
   "execution_count": 29,
   "metadata": {},
   "outputs": [
    {
     "name": "stdout",
     "output_type": "stream",
     "text": [
      "1 4 Ringo Tabby\n",
      "2 10 Cindy Marine Coon\n",
      "3 11 Dumbledore Marine Coon\n",
      "4 4 Egg Persian\n",
      "5 13 Misty Tabby\n",
      "6 9 George Michael Ragdoll\n",
      "7 7 Jackson Sphynx\n"
     ]
    }
   ],
   "source": [
    "\n",
    "import mysql.connector\n",
    "mydb = mysql.connector.connect(\n",
    "    host = 'localhost',\n",
    "    user = 'root',\n",
    "    password = 'Zs8271911c',\n",
    "    auth_plugin = 'mysql_native_password',\n",
    "    database = 'sql_p'\n",
    ")\n",
    "sql = \"\"\"\n",
    "select * from cats\n",
    "\"\"\"\n",
    "\n",
    "cursor = mydb.cursor()\n",
    "cursor.execute(sql)\n",
    "  \n",
    "# The output in fetched and returned\n",
    "# as a List by fetchall()\n",
    "# result = cursor.fetchall()\n",
    "# print(result)\n",
    "\n",
    "# \n",
    "\n",
    "for id, name, breed, age in cursor:\n",
    "    print(id , age, name , breed )"
   ]
  }
 ],
 "metadata": {
  "kernelspec": {
   "display_name": "Python 3",
   "language": "python",
   "name": "python3"
  },
  "language_info": {
   "codemirror_mode": {
    "name": "ipython",
    "version": 3
   },
   "file_extension": ".py",
   "mimetype": "text/x-python",
   "name": "python",
   "nbconvert_exporter": "python",
   "pygments_lexer": "ipython3",
   "version": "3.11.4"
  },
  "orig_nbformat": 4
 },
 "nbformat": 4,
 "nbformat_minor": 2
}
