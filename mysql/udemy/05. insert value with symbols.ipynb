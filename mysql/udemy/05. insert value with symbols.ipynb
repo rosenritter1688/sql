{
 "cells": [
  {
   "cell_type": "code",
   "execution_count": 6,
   "metadata": {},
   "outputs": [
    {
     "name": "stdout",
     "output_type": "stream",
     "text": [
      "('KITTY', 0)\n",
      "('UNKNOW', 0)\n",
      "('KITTY', 0)\n",
      "('KITTY', 0)\n",
      "('KITTY', 0)\n",
      "('KITTY', 0)\n",
      "('KITTY', 0)\n",
      "('KITTY', 0)\n",
      "(\"mario 's pizza \", 0)\n",
      "(\"mario's pizza \", 0)\n"
     ]
    }
   ],
   "source": [
    "import mysql.connector\n",
    "\n",
    "try:\n",
    "    mydb = mysql.connector.connect(\n",
    "        host = 'localhost',\n",
    "        user = 'root',\n",
    "        password = 'Zs8271911c',\n",
    "        auth_plugin = 'mysql_native_password',\n",
    "        database = 'sql_p'\n",
    "    )\n",
    "    #! insert mario's pizza but using \\\n",
    "    #! in mysql workbench just use \\\n",
    "    #! but in python must use \\\\\n",
    "    my_cursor = mydb.cursor()\n",
    "    my_cursor.execute('''\n",
    "    INSERT INTO cats2 \n",
    "                      ( name )\n",
    "                VALUES\n",
    "                      ( 'mario\\\\'s pizza ')\n",
    "                      \n",
    "                      ''')\n",
    "    mydb.commit()\n",
    "\n",
    "    my_cursor.execute('''\n",
    "    SELECT * FROM cats2\n",
    "                      ''')      \n",
    "    for x in my_cursor:\n",
    "        print(x)\n",
    "\n",
    "except Exception as error_msg:\n",
    "    print(str(error_msg))\n"
   ]
  }
 ],
 "metadata": {
  "kernelspec": {
   "display_name": "Python 3",
   "language": "python",
   "name": "python3"
  },
  "language_info": {
   "codemirror_mode": {
    "name": "ipython",
    "version": 3
   },
   "file_extension": ".py",
   "mimetype": "text/x-python",
   "name": "python",
   "nbconvert_exporter": "python",
   "pygments_lexer": "ipython3",
   "version": "3.11.4"
  },
  "orig_nbformat": 4
 },
 "nbformat": 4,
 "nbformat_minor": 2
}
