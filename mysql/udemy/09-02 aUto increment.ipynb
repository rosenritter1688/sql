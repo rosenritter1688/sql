{
 "cells": [
  {
   "cell_type": "markdown",
   "metadata": {},
   "source": [
    "## AUTO INCREMENT ON PRIMARY KEY FIELD\n",
    "#### ADDING PRIMARY KEY AUTOMATICALLY \n",
    "\n",
    "```SQL\n",
    "CREATE TABLE IF NOT EXISTS unique_cats2 (\n",
    "        cat_id INT AUTO_INCREMENT PRIMARY KEY,\n",
    "        name VARCHAR(30),\n",
    "        age INT\n",
    "\n",
    ");\n",
    "```\n",
    "\n"
   ]
  },
  {
   "cell_type": "markdown",
   "metadata": {},
   "source": [
    "### when auto_increment is setted, we no longer needed to imput value for primay key (cat_id)"
   ]
  },
  {
   "cell_type": "code",
   "execution_count": null,
   "metadata": {},
   "outputs": [],
   "source": []
  }
 ],
 "metadata": {
  "language_info": {
   "name": "python"
  },
  "orig_nbformat": 4
 },
 "nbformat": 4,
 "nbformat_minor": 2
}
