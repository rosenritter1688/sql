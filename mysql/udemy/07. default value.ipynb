{
 "cells": [
  {
   "cell_type": "code",
   "execution_count": null,
   "metadata": {},
   "outputs": [],
   "source": [
    "'''\n",
    "CREATE TABLE cats3 (\n",
    "    name VARCHAR(30) NOT NULL DEFAULT 'unnamed',\n",
    "    age INT UNSIGNED NOT NULL DEFAULT 99\n",
    ")\n",
    "'''\n",
    "\n"
   ]
  }
 ],
 "metadata": {
  "language_info": {
   "name": "python"
  },
  "orig_nbformat": 4
 },
 "nbformat": 4,
 "nbformat_minor": 2
}
