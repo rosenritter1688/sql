{
 "cells": [
  {
   "cell_type": "code",
   "execution_count": null,
   "metadata": {},
   "outputs": [],
   "source": [
    "### using \"like\" to search for data \n",
    "\n",
    "```sql\n",
    "-- search any string from title has 'am' or 'Am' or 'aM' or 'AM'\n",
    "\n",
    "select *\n",
    "where title\n",
    "like '%am%'   -- check the content any work has am in between\n",
    "from books;\n",
    "\n",
    "```\n",
    "\n",
    "\n",
    "```sql\n",
    "SELECT \n",
    "        *\n",
    "FROM \n",
    "        books\n",
    "WHERE\n",
    "        title\n",
    "LIKE\n",
    "        'am%'  -- check any words starts with am\n",
    "\n",
    "```\n",
    "\n",
    "```sql\n",
    "\n",
    "SELECT \n",
    "        *\n",
    "FROM \n",
    "        books\n",
    "WHERE\n",
    "        title\n",
    "LIKE\n",
    "        '%am'  -- check any words ends with am\n",
    "\n",
    "```"
   ]
  }
 ],
 "metadata": {
  "kernelspec": {
   "display_name": "Python 3",
   "language": "python",
   "name": "python3"
  },
  "language_info": {
   "name": "python",
   "version": "3.11.4"
  },
  "orig_nbformat": 4
 },
 "nbformat": 4,
 "nbformat_minor": 2
}
