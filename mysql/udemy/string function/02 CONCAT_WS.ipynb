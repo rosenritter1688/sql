{
 "cells": [
  {
   "cell_type": "markdown",
   "metadata": {},
   "source": [
    "## concate with seperator\n",
    "\n",
    "\n",
    "```sql\n",
    "SELECT \n",
    "        CONCAT( \n",
    "            ' ',\n",
    "            author_fname,\n",
    "            author_lname\n",
    "        )\n",
    "```"
   ]
  },
  {
   "cell_type": "code",
   "execution_count": 8,
   "metadata": {},
   "outputs": [
    {
     "name": "stdout",
     "output_type": "stream",
     "text": [
      "Jhumpa Lahiri\n",
      "Neil Gaiman\n",
      "Neil Gaiman\n",
      "Jhumpa Lahiri\n",
      "Dave Eggers\n",
      "Dave Eggers\n",
      "Michael Chabon\n",
      "Patti Smith\n",
      "Dave Eggers\n",
      "Neil Gaiman\n",
      "Raymond Carver\n",
      "Raymond Carver\n",
      "Don DeLillo\n",
      "John Steinbeck\n",
      "David Foster Wallace\n",
      "David Foster Wallace\n"
     ]
    }
   ],
   "source": [
    "import mysql.connector\n",
    "try:\n",
    "    mydb4 = mysql.connector.connect(\n",
    "        database = 'sql_p',\n",
    "        host = 'localhost',\n",
    "        user = 'root',\n",
    "        password = 'Zs8271911c',\n",
    "        auth_plugin = 'mysql_native_password'\n",
    "    )\n",
    "    my_cursor4 = mydb4.cursor()\n",
    "    my_cursor4.execute(\n",
    "        '''\n",
    "        SELECT\n",
    "                CONCAT_WS(\n",
    "                        ' ',   #! SEPERATOR\n",
    "                        author_fname,\n",
    "                        author_lname\n",
    "                      )\n",
    "        FROM\n",
    "                books\n",
    "        '''\n",
    "    )\n",
    "    for x in my_cursor4:\n",
    "        print(x[0])\n",
    "    mydb4.close()\n",
    "    my_cursor4.close()\n",
    "except Exception as error_msg:\n",
    "    print(str(error_msg))"
   ]
  }
 ],
 "metadata": {
  "kernelspec": {
   "display_name": "Python 3",
   "language": "python",
   "name": "python3"
  },
  "language_info": {
   "codemirror_mode": {
    "name": "ipython",
    "version": 3
   },
   "file_extension": ".py",
   "mimetype": "text/x-python",
   "name": "python",
   "nbconvert_exporter": "python",
   "pygments_lexer": "ipython3",
   "version": "3.11.4"
  },
  "orig_nbformat": 4
 },
 "nbformat": 4,
 "nbformat_minor": 2
}
