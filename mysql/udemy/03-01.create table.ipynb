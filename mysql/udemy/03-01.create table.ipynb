{
 "cells": [
  {
   "cell_type": "code",
   "execution_count": 6,
   "metadata": {},
   "outputs": [
    {
     "name": "stdout",
     "output_type": "stream",
     "text": [
      "('name', b'varchar(30)', 'YES', bytearray(b''), None, '')\n",
      "('age', b'int unsigned', 'YES', bytearray(b''), None, '')\n"
     ]
    }
   ],
   "source": [
    "import mysql.connector\n",
    "try:\n",
    "    mydb = mysql.connector.connect(\n",
    "        host='localhost',\n",
    "        user='root',\n",
    "        password='Zs8271911c',\n",
    "        auth_plugin='mysql_native_password',\n",
    "        database='sql_p'\n",
    "    )\n",
    "    my_cursor=mydb.cursor()\n",
    "    my_cursor.execute('''CREATE TABLE IF NOT EXISTS cats(\n",
    "                                                        name VARCHAR(30),\n",
    "                                                        age INT UNSIGNED\n",
    "                                                        )\n",
    "                      ''')\n",
    "    my_cursor.execute('''\n",
    "                        DESCRIBE cats3\n",
    "                      ''')\n",
    "    for x in my_cursor:\n",
    "        print(x)\n",
    "except Exception as error_msg:\n",
    "    print(str(error_msg))"
   ]
  }
 ],
 "metadata": {
  "kernelspec": {
   "display_name": "Python 3",
   "language": "python",
   "name": "python3"
  },
  "language_info": {
   "codemirror_mode": {
    "name": "ipython",
    "version": 3
   },
   "file_extension": ".py",
   "mimetype": "text/x-python",
   "name": "python",
   "nbconvert_exporter": "python",
   "pygments_lexer": "ipython3",
   "version": "3.11.4"
  },
  "orig_nbformat": 4
 },
 "nbformat": 4,
 "nbformat_minor": 2
}
