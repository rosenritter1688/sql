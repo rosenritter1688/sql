{
 "cells": [
  {
   "cell_type": "markdown",
   "metadata": {},
   "source": [
    "## works in mysql"
   ]
  },
  {
   "cell_type": "markdown",
   "metadata": {},
   "source": [
    "# AUTO INCREMENT Field\n",
    "\n",
    "### Auto-increment allows a unique number to be generated automatically when a new record is inserted into a table.\n",
    "\n",
    "### Often this is the primary key field that we would like to be created automatically every time a new record is inserted."
   ]
  },
  {
   "cell_type": "code",
   "execution_count": 2,
   "metadata": {},
   "outputs": [
    {
     "name": "stdout",
     "output_type": "stream",
     "text": [
      "<mysql.connector.connection_cext.CMySQLConnection object at 0x7f854cda3f10>\n"
     ]
    }
   ],
   "source": [
    "import mysql.connector as sql\n",
    "import pandas as pd\n",
    "\n",
    "# auth_plugin is needed, can check by commends \n",
    "# SELECT user,authentication_string,plugin,host FROM mysql.user;\n",
    "# check the columns plugin and user\n",
    "\n",
    "mydb = sql.connect (\n",
    "    host = \"localhost\",\n",
    "    user = \"root\",\n",
    "    password = \"ZAQs8271911c$\",\n",
    "    auth_plugin='mysql_native_password',\n",
    "    database = \"sql_intro\",\n",
    "    buffered = True             # Unread result found issue\n",
    ")                                              # if using pandas no need to use buffer\n",
    "\n",
    "print(mydb)\n"
   ]
  },
  {
   "cell_type": "code",
   "execution_count": 6,
   "metadata": {},
   "outputs": [],
   "source": [
    "mycoursor = mydb.cursor()\n",
    "\n",
    "\n",
    "mycoursor.execute(\"\"\"\n",
    "DROP TABLE IF EXISTS testing_3;  \n",
    "\n",
    "\"\"\"\n",
    ")"
   ]
  },
  {
   "cell_type": "markdown",
   "metadata": {},
   "source": [
    "# auto_increment must set as primary key or wont  work for mysql"
   ]
  },
  {
   "cell_type": "code",
   "execution_count": 3,
   "metadata": {},
   "outputs": [],
   "source": [
    "# only execute sql query wo passing data to panda dataframe\n",
    "mycoursor = mydb.cursor()\n",
    "\n",
    "mysql_query = \"\"\"\n",
    "CREATE TABLE testing_3 (\n",
    "    Personid int NOT NULL AUTO_INCREMENT,\n",
    "    LastName varchar(255) NOT NULL,\n",
    "    FirstName varchar(255),\n",
    "    Age int,\n",
    "    PRIMARY KEY (Personid)\n",
    "); \n",
    "\"\"\"\n",
    "\n",
    "mycoursor.execute(mysql_query)"
   ]
  }
 ],
 "metadata": {
  "kernelspec": {
   "display_name": "Python 3.10.4 64-bit",
   "language": "python",
   "name": "python3"
  },
  "language_info": {
   "codemirror_mode": {
    "name": "ipython",
    "version": 3
   },
   "file_extension": ".py",
   "mimetype": "text/x-python",
   "name": "python",
   "nbconvert_exporter": "python",
   "pygments_lexer": "ipython3",
   "version": "3.8.10"
  },
  "orig_nbformat": 4,
  "vscode": {
   "interpreter": {
    "hash": "916dbcbb3f70747c44a77c7bcd40155683ae19c65e1c03b4aa3499c5328201f1"
   }
  }
 },
 "nbformat": 4,
 "nbformat_minor": 2
}
