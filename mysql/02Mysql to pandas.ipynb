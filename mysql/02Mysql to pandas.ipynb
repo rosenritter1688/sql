{
 "cells": [
  {
   "cell_type": "code",
   "execution_count": 21,
   "metadata": {},
   "outputs": [
    {
     "name": "stdout",
     "output_type": "stream",
     "text": [
      "<mysql.connector.connection.MySQLConnection object at 0x7f15f09e61a0>\n"
     ]
    }
   ],
   "source": [
    "import mysql.connector as sql\n",
    "import pandas as pd\n",
    "\n",
    "# auth_plugin is needed, can check by commends \n",
    "# SELECT user,authentication_string,plugin,host FROM mysql.user;\n",
    "# check the columns plugin and user\n",
    "\n",
    "mydb = sql.connect (\n",
    "    host = \"localhost\",\n",
    "    user = \"root\",\n",
    "    password = \"ZAQs8271911c$\",\n",
    "    auth_plugin='mysql_native_password',\n",
    "    database = \"sql_intro\",\n",
    "    buffered = True             # Unread result found issue\n",
    ")                                              # if using pandas no need to use buffer\n",
    "\n",
    "print(mydb)\n"
   ]
  },
  {
   "cell_type": "code",
   "execution_count": 7,
   "metadata": {},
   "outputs": [],
   "source": [
    "# only execute sql query wo passing data to panda dataframe\n",
    "mycoursor = mydb.cursor()\n",
    "\n",
    "mycoursor.execute(\n",
    "    \"\"\"\n",
    "    #! create database\n",
    "    create database if not exists database_name;\n",
    "    \"\"\"\n",
    ")"
   ]
  },
  {
   "cell_type": "markdown",
   "metadata": {},
   "source": [
    "# using pandas to run sql query and get data into dataframe"
   ]
  },
  {
   "cell_type": "code",
   "execution_count": 11,
   "metadata": {},
   "outputs": [
    {
     "name": "stderr",
     "output_type": "stream",
     "text": [
      "/home/bruce/.local/lib/python3.10/site-packages/pandas/io/sql.py:761: UserWarning: pandas only support SQLAlchemy connectable(engine/connection) ordatabase string URI or sqlite3 DBAPI2 connectionother DBAPI2 objects are not tested, please consider using SQLAlchemy\n",
      "  warnings.warn(\n"
     ]
    },
    {
     "data": {
      "text/html": [
       "<div>\n",
       "<style scoped>\n",
       "    .dataframe tbody tr th:only-of-type {\n",
       "        vertical-align: middle;\n",
       "    }\n",
       "\n",
       "    .dataframe tbody tr th {\n",
       "        vertical-align: top;\n",
       "    }\n",
       "\n",
       "    .dataframe thead th {\n",
       "        text-align: right;\n",
       "    }\n",
       "</style>\n",
       "<table border=\"1\" class=\"dataframe\">\n",
       "  <thead>\n",
       "    <tr style=\"text-align: right;\">\n",
       "      <th></th>\n",
       "      <th>Name</th>\n",
       "      <th>doj</th>\n",
       "      <th>salary</th>\n",
       "    </tr>\n",
       "  </thead>\n",
       "  <tbody>\n",
       "    <tr>\n",
       "      <th>0</th>\n",
       "      <td>Jimmy</td>\n",
       "      <td>2005-05-30</td>\n",
       "      <td>70000.0</td>\n",
       "    </tr>\n",
       "    <tr>\n",
       "      <th>1</th>\n",
       "      <td>Shane</td>\n",
       "      <td>1999-06-25</td>\n",
       "      <td>55000.0</td>\n",
       "    </tr>\n",
       "    <tr>\n",
       "      <th>2</th>\n",
       "      <td>Marry</td>\n",
       "      <td>2009-03-10</td>\n",
       "      <td>62000.0</td>\n",
       "    </tr>\n",
       "    <tr>\n",
       "      <th>3</th>\n",
       "      <td>Dwayne</td>\n",
       "      <td>2011-07-12</td>\n",
       "      <td>57000.0</td>\n",
       "    </tr>\n",
       "    <tr>\n",
       "      <th>4</th>\n",
       "      <td>Sara</td>\n",
       "      <td>2017-10-27</td>\n",
       "      <td>72000.0</td>\n",
       "    </tr>\n",
       "    <tr>\n",
       "      <th>5</th>\n",
       "      <td>Ammy</td>\n",
       "      <td>2014-12-20</td>\n",
       "      <td>80000.0</td>\n",
       "    </tr>\n",
       "  </tbody>\n",
       "</table>\n",
       "</div>"
      ],
      "text/plain": [
       "     Name         doj   salary\n",
       "0   Jimmy  2005-05-30  70000.0\n",
       "1   Shane  1999-06-25  55000.0\n",
       "2   Marry  2009-03-10  62000.0\n",
       "3  Dwayne  2011-07-12  57000.0\n",
       "4    Sara  2017-10-27  72000.0\n",
       "5    Ammy  2014-12-20  80000.0"
      ]
     },
     "execution_count": 11,
     "metadata": {},
     "output_type": "execute_result"
    }
   ],
   "source": [
    "# only execute sql query wo passing data to panda dataframe \n",
    "sql_query = \"\"\"\n",
    "select Name, doj, salary\n",
    "from emp_details;\n",
    "\"\"\"\n",
    "\n",
    "df = pd.read_sql_query(\n",
    "    sql_query,\n",
    "    mydb)\n",
    "df"
   ]
  },
  {
   "cell_type": "markdown",
   "metadata": {},
   "source": [
    "# using for loop for reading data"
   ]
  },
  {
   "cell_type": "code",
   "execution_count": 28,
   "metadata": {},
   "outputs": [
    {
     "name": "stdout",
     "output_type": "stream",
     "text": [
      "('Jimmy', 35, 'M', datetime.date(2005, 5, 30), 'Chicago', 70000.0)\n",
      "('Shane', 30, 'M', datetime.date(1999, 6, 25), 'Seattle', 55000.0)\n",
      "('Marry', 28, 'F', datetime.date(2009, 3, 10), 'Boston', 62000.0)\n",
      "('Dwayne', 37, 'M', datetime.date(2011, 7, 12), 'Austin', 57000.0)\n",
      "('Sara', 32, 'F', datetime.date(2017, 10, 27), 'New York', 72000.0)\n",
      "('Ammy', 35, 'F', datetime.date(2014, 12, 20), 'Seattle', 80000.0)\n"
     ]
    }
   ],
   "source": [
    "cursor = mydb.cursor()\n",
    "sql_query = \"\"\"\n",
    "select * \n",
    "from emp_details;\n",
    "\"\"\"\n",
    "# execute sql query\n",
    "cursor.execute(sql_query)\n",
    "\n",
    "#using for loop for reading data\n",
    "for x in cursor:\n",
    "    #print(type(x))\n",
    "    print(x)   #<class 'tuple'>\n",
    "\n"
   ]
  },
  {
   "cell_type": "markdown",
   "metadata": {},
   "source": [
    "# second way of passing data to panda dataframe"
   ]
  },
  {
   "cell_type": "code",
   "execution_count": 31,
   "metadata": {},
   "outputs": [
    {
     "data": {
      "text/html": [
       "<div>\n",
       "<style scoped>\n",
       "    .dataframe tbody tr th:only-of-type {\n",
       "        vertical-align: middle;\n",
       "    }\n",
       "\n",
       "    .dataframe tbody tr th {\n",
       "        vertical-align: top;\n",
       "    }\n",
       "\n",
       "    .dataframe thead th {\n",
       "        text-align: right;\n",
       "    }\n",
       "</style>\n",
       "<table border=\"1\" class=\"dataframe\">\n",
       "  <thead>\n",
       "    <tr style=\"text-align: right;\">\n",
       "      <th></th>\n",
       "      <th>0</th>\n",
       "      <th>1</th>\n",
       "      <th>2</th>\n",
       "      <th>3</th>\n",
       "      <th>4</th>\n",
       "      <th>5</th>\n",
       "    </tr>\n",
       "  </thead>\n",
       "  <tbody>\n",
       "    <tr>\n",
       "      <th>0</th>\n",
       "      <td>Jimmy</td>\n",
       "      <td>35</td>\n",
       "      <td>M</td>\n",
       "      <td>2005-05-30</td>\n",
       "      <td>Chicago</td>\n",
       "      <td>70000.0</td>\n",
       "    </tr>\n",
       "    <tr>\n",
       "      <th>1</th>\n",
       "      <td>Shane</td>\n",
       "      <td>30</td>\n",
       "      <td>M</td>\n",
       "      <td>1999-06-25</td>\n",
       "      <td>Seattle</td>\n",
       "      <td>55000.0</td>\n",
       "    </tr>\n",
       "    <tr>\n",
       "      <th>2</th>\n",
       "      <td>Marry</td>\n",
       "      <td>28</td>\n",
       "      <td>F</td>\n",
       "      <td>2009-03-10</td>\n",
       "      <td>Boston</td>\n",
       "      <td>62000.0</td>\n",
       "    </tr>\n",
       "    <tr>\n",
       "      <th>3</th>\n",
       "      <td>Dwayne</td>\n",
       "      <td>37</td>\n",
       "      <td>M</td>\n",
       "      <td>2011-07-12</td>\n",
       "      <td>Austin</td>\n",
       "      <td>57000.0</td>\n",
       "    </tr>\n",
       "    <tr>\n",
       "      <th>4</th>\n",
       "      <td>Sara</td>\n",
       "      <td>32</td>\n",
       "      <td>F</td>\n",
       "      <td>2017-10-27</td>\n",
       "      <td>New York</td>\n",
       "      <td>72000.0</td>\n",
       "    </tr>\n",
       "    <tr>\n",
       "      <th>5</th>\n",
       "      <td>Ammy</td>\n",
       "      <td>35</td>\n",
       "      <td>F</td>\n",
       "      <td>2014-12-20</td>\n",
       "      <td>Seattle</td>\n",
       "      <td>80000.0</td>\n",
       "    </tr>\n",
       "  </tbody>\n",
       "</table>\n",
       "</div>"
      ],
      "text/plain": [
       "        0   1  2           3         4        5\n",
       "0   Jimmy  35  M  2005-05-30   Chicago  70000.0\n",
       "1   Shane  30  M  1999-06-25   Seattle  55000.0\n",
       "2   Marry  28  F  2009-03-10    Boston  62000.0\n",
       "3  Dwayne  37  M  2011-07-12    Austin  57000.0\n",
       "4    Sara  32  F  2017-10-27  New York  72000.0\n",
       "5    Ammy  35  F  2014-12-20   Seattle  80000.0"
      ]
     },
     "execution_count": 31,
     "metadata": {},
     "output_type": "execute_result"
    }
   ],
   "source": [
    "cursor = mydb.cursor()\n",
    "sql_query = \"\"\"\n",
    "select * \n",
    "from emp_details;\n",
    "\"\"\"\n",
    "\n",
    "cursor.execute(sql_query)\n",
    "\n",
    "table_rows = cursor.fetchall()\n",
    "\n",
    "df = pd.DataFrame(table_rows)\n",
    "df"
   ]
  }
 ],
 "metadata": {
  "kernelspec": {
   "display_name": "Python 3.10.4 64-bit",
   "language": "python",
   "name": "python3"
  },
  "language_info": {
   "codemirror_mode": {
    "name": "ipython",
    "version": 3
   },
   "file_extension": ".py",
   "mimetype": "text/x-python",
   "name": "python",
   "nbconvert_exporter": "python",
   "pygments_lexer": "ipython3",
   "version": "3.10.4"
  },
  "orig_nbformat": 4,
  "vscode": {
   "interpreter": {
    "hash": "916dbcbb3f70747c44a77c7bcd40155683ae19c65e1c03b4aa3499c5328201f1"
   }
  }
 },
 "nbformat": 4,
 "nbformat_minor": 2
}
