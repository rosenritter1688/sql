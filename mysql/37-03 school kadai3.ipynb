{
 "cells": [
  {
   "cell_type": "code",
   "execution_count": 3,
   "metadata": {},
   "outputs": [
    {
     "data": {
      "text/plain": [
       "'\\n-- school KADAI3\\nselect \\n\\t\\tcategory,\\n        sum(sub_total) AS total\\nfrom \\n\\t\\tsql_school_kadai2\\ngroup by\\n\\t\\tcategory\\norder by total DESC;\\n'"
      ]
     },
     "execution_count": 3,
     "metadata": {},
     "output_type": "execute_result"
    }
   ],
   "source": [
    "# mysql\n",
    "\"\"\"\n",
    "-- school KADAI3\n",
    "select \n",
    "\t\tcategory,\n",
    "        sum(sub_total) AS total\n",
    "from \n",
    "\t\tsql_school_kadai2\n",
    "group by\n",
    "\t\tcategory\n",
    "order by total DESC;\n",
    "\"\"\""
   ]
  },
  {
   "cell_type": "markdown",
   "metadata": {},
   "source": [
    "# category, total\n",
    "### 'Food', '11188880'\n",
    "### 'Sports', '2781320'\n",
    "### 'Necessities', '2726720'\n",
    "### 'Fashion', '2681490'\n",
    "### 'Book-CD-DVD', '799360'\n"
   ]
  },
  {
   "cell_type": "code",
   "execution_count": null,
   "metadata": {},
   "outputs": [],
   "source": [
    "# bigquery\n",
    "\"\"\"\n",
    "select\n",
    "      category,\n",
    "      sum(sub_total) AS total\n",
    "from\n",
    "      `data-sci-acad-learn-sql.TW14_N10.sql_school_kadai2`\n",
    "group by\n",
    "      category\n",
    "order by\n",
    "      total desc;\n",
    "\n",
    "\"\"\""
   ]
  }
 ],
 "metadata": {
  "kernelspec": {
   "display_name": "Python 3.8.10 64-bit",
   "language": "python",
   "name": "python3"
  },
  "language_info": {
   "codemirror_mode": {
    "name": "ipython",
    "version": 3
   },
   "file_extension": ".py",
   "mimetype": "text/x-python",
   "name": "python",
   "nbconvert_exporter": "python",
   "pygments_lexer": "ipython3",
   "version": "3.8.10"
  },
  "orig_nbformat": 4,
  "vscode": {
   "interpreter": {
    "hash": "916dbcbb3f70747c44a77c7bcd40155683ae19c65e1c03b4aa3499c5328201f1"
   }
  }
 },
 "nbformat": 4,
 "nbformat_minor": 2
}
