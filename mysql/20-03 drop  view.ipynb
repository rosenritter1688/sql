{
 "cells": [
  {
   "cell_type": "code",
   "execution_count": 4,
   "metadata": {},
   "outputs": [],
   "source": [
    "import mysql.connector as mysql_connector\n",
    "import pandas as pd\n",
    "\n",
    "dataBase = mysql_connector.connect(\n",
    "    host = \"localhost\",\n",
    "    user = \"root\",\n",
    "    password = \"19821205\",\n",
    "    auth_plugin = \"mysql_native_password\",\n",
    "    database = \"sql_fr_ai\",\n",
    "    buffered = True\n",
    ")\n",
    "# preparing a cursor object\n",
    "cursorObject = dataBase.cursor()\n",
    "\n",
    "sql_query = \"\"\"\n",
    "DROP VIEW IF EXISTS daily_amount_view;\n",
    "\"\"\"\n",
    "\n",
    "cursorObject.execute(sql_query)\n",
    "dataBase.commit()\n"
   ]
  },
  {
   "cell_type": "code",
   "execution_count": null,
   "metadata": {},
   "outputs": [],
   "source": []
  }
 ],
 "metadata": {
  "kernelspec": {
   "display_name": "Python 3",
   "language": "python",
   "name": "python3"
  },
  "language_info": {
   "codemirror_mode": {
    "name": "ipython",
    "version": 3
   },
   "file_extension": ".py",
   "mimetype": "text/x-python",
   "name": "python",
   "nbconvert_exporter": "python",
   "pygments_lexer": "ipython3",
   "version": "3.10.7"
  },
  "orig_nbformat": 4,
  "vscode": {
   "interpreter": {
    "hash": "3e748360335f2bf9c5c12ffe143cd93812385ddcb6c3d461a4ee3fa3233acffe"
   }
  }
 },
 "nbformat": 4,
 "nbformat_minor": 2
}
