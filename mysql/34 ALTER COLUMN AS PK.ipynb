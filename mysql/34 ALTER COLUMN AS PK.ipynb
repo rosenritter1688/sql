{
 "cells": [
  {
   "cell_type": "markdown",
   "metadata": {},
   "source": [
    "# in mysql\n",
    "```\n",
    "ALTER TABLE table_name\n",
    "ADD PRIMARY KEY (column_name)\n",
    "```"
   ]
  },
  {
   "cell_type": "code",
   "execution_count": 1,
   "metadata": {},
   "outputs": [],
   "source": [
    "# if you wanna update or delete records with out primary might have posibility of change many records not just one,\n",
    "# so if you table doesnt have PK then unless mysql workbench is under safe mode. you wont able to update or delete record with a table wo PK,\n",
    "# adding PK or disableing the safe mode will be your only 2 options"
   ]
  }
 ],
 "metadata": {
  "kernelspec": {
   "display_name": "Python 3.8.10 64-bit",
   "language": "python",
   "name": "python3"
  },
  "language_info": {
   "codemirror_mode": {
    "name": "ipython",
    "version": 3
   },
   "file_extension": ".py",
   "mimetype": "text/x-python",
   "name": "python",
   "nbconvert_exporter": "python",
   "pygments_lexer": "ipython3",
   "version": "3.8.10"
  },
  "orig_nbformat": 4,
  "vscode": {
   "interpreter": {
    "hash": "916dbcbb3f70747c44a77c7bcd40155683ae19c65e1c03b4aa3499c5328201f1"
   }
  }
 },
 "nbformat": 4,
 "nbformat_minor": 2
}
