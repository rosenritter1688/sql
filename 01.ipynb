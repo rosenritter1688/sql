{
 "cells": [
  {
   "cell_type": "code",
   "execution_count": 3,
   "metadata": {},
   "outputs": [
    {
     "name": "stdout",
     "output_type": "stream",
     "text": [
      "<mysql.connector.connection.MySQLConnection object at 0x000002F7FC4B82D0>\n"
     ]
    }
   ],
   "source": [
    "import mysql.connector as sql   #pip install mysql-connector-python-rf\n",
    "import pandas as pd\n",
    "\n",
    "mydb = sql.connect (\n",
    "    host = \"localhost\",\n",
    "    user = \"root\",\n",
    "    password = \"Zs8271911c\",\n",
    "    auth_plugin='mysql_native_password',\n",
    "    database = \"sql_p\"\n",
    ")\n",
    "print(mydb)\n",
    "mydb.close()"
   ]
  },
  {
   "cell_type": "code",
   "execution_count": null,
   "metadata": {},
   "outputs": [],
   "source": [
    "mydb = sql.connect (\n",
    "    host = 'locathost',\n",
    "    user = 'root',\n",
    "    password = 'Zs8271911c',\n",
    "    auth_plugin = 'mysql_native_password',\n",
    "    database = 'sql_p'\n",
    ")\n"
   ]
  }
 ],
 "metadata": {
  "kernelspec": {
   "display_name": "Python 3",
   "language": "python",
   "name": "python3"
  },
  "language_info": {
   "codemirror_mode": {
    "name": "ipython",
    "version": 3
   },
   "file_extension": ".py",
   "mimetype": "text/x-python",
   "name": "python",
   "nbconvert_exporter": "python",
   "pygments_lexer": "ipython3",
   "version": "3.11.4"
  },
  "orig_nbformat": 4
 },
 "nbformat": 4,
 "nbformat_minor": 2
}
