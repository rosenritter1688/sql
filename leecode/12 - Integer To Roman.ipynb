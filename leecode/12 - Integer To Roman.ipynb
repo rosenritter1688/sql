{
 "cells": [
  {
   "cell_type": "markdown",
   "metadata": {},
   "source": [
    "# Problem Statement\n",
    "### Roman numerals are represented by seven different symbols: I, V, X, L, C, D and M.\n",
    "\n",
    "### Symbol       Value\n",
    "### I             1\n",
    "### V             5\n",
    "### X             10\n",
    "### L             50\n",
    "### C             100\n",
    "### D             500\n",
    "### M             1000 -->"
   ]
  },
  {
   "cell_type": "code",
   "execution_count": 3,
   "metadata": {},
   "outputs": [
    {
     "name": "stdout",
     "output_type": "stream",
     "text": [
      "3\n",
      "3\n"
     ]
    }
   ],
   "source": [
    "map = {\n",
    "    'I':1,\n",
    "    'V':5,\n",
    "    'X':10,\n",
    "    'L':50,\n",
    "    'C':100,\n",
    "    'D':500,\n",
    "    'M':1000\n",
    "}\n",
    "temp = \"123\"\n",
    "print(len(temp))\n",
    "print(temp[3-1])"
   ]
  },
  {
   "cell_type": "markdown",
   "metadata": {},
   "source": [
    "def int_to_roman(x):\n",
    "    "
   ]
  },
  {
   "cell_type": "markdown",
   "metadata": {},
   "source": [
    "**hu**"
   ]
  },
  {
   "cell_type": "code",
   "execution_count": 20,
   "metadata": {},
   "outputs": [
    {
     "name": "stdout",
     "output_type": "stream",
     "text": [
      "['M', 'C']\n",
      "MC\n"
     ]
    }
   ],
   "source": [
    "def intToRoman(self, num):\n",
    "    value = [ 1000, 900, 500, 400, 100, 90, 50, 40, 10, 9, 5, 4, 1 ]\n",
    "    num_s = [ \"M\", \"CM\", \"D\", \"CD\", \"C\", \"XC\", \"L\", \"XL\", \"X\", \"IX\", \"V\", \"IV\", \"I\" ]\n",
    "    res, i = \"\", 0\n",
    "    while num:\n",
    "        res += (num//values[i]) * numerals[i]\n",
    "        num %= values[i]\n",
    "        i += 1\n",
    "    return res\n",
    "# check this first then\n",
    "check_list = {\n",
    "    \"CM\" : 900,\n",
    "    \"CD\" : 400,\n",
    "    \"XC\" : 90,\n",
    "    \"XL\" : 40,\n",
    "    \"IX\" : 9,\n",
    "    \"IV\" : 4    \n",
    "}\n",
    "# sample input = MCMXCIV = 1994\n",
    "# then check this\n",
    "temp = \"MCMXCIV\"\n",
    "x = list(temp)\n",
    "print((x[:2]))\n",
    "print(temp[:2])\n",
    "# check_list[\"CM\"]\n"
   ]
  },
  {
   "cell_type": "code",
   "execution_count": null,
   "metadata": {},
   "outputs": [],
   "source": []
  }
 ],
 "metadata": {
  "kernelspec": {
   "display_name": "Python 3.10.7 64-bit",
   "language": "python",
   "name": "python3"
  },
  "language_info": {
   "codemirror_mode": {
    "name": "ipython",
    "version": 3
   },
   "file_extension": ".py",
   "mimetype": "text/x-python",
   "name": "python",
   "nbconvert_exporter": "python",
   "pygments_lexer": "ipython3",
   "version": "3.10.7 (tags/v3.10.7:6cc6b13, Sep  5 2022, 14:08:36) [MSC v.1933 64 bit (AMD64)]"
  },
  "orig_nbformat": 4,
  "vscode": {
   "interpreter": {
    "hash": "3e748360335f2bf9c5c12ffe143cd93812385ddcb6c3d461a4ee3fa3233acffe"
   }
  }
 },
 "nbformat": 4,
 "nbformat_minor": 2
}
