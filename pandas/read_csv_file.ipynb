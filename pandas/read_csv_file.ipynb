{
 "cells": [
  {
   "cell_type": "markdown",
   "metadata": {},
   "source": [
    "# Pandas\n",
    "### read csv file\n",
    "```\n",
    "pd.read_csv()\n"
   ]
  },
  {
   "cell_type": "code",
   "execution_count": 5,
   "metadata": {},
   "outputs": [
    {
     "data": {
      "text/html": [
       "<div>\n",
       "<style scoped>\n",
       "    .dataframe tbody tr th:only-of-type {\n",
       "        vertical-align: middle;\n",
       "    }\n",
       "\n",
       "    .dataframe tbody tr th {\n",
       "        vertical-align: top;\n",
       "    }\n",
       "\n",
       "    .dataframe thead th {\n",
       "        text-align: right;\n",
       "    }\n",
       "</style>\n",
       "<table border=\"1\" class=\"dataframe\">\n",
       "  <thead>\n",
       "    <tr style=\"text-align: right;\">\n",
       "      <th></th>\n",
       "      <th>CUSTOMER_NUMBER</th>\n",
       "      <th>CUSTOMER_NAME</th>\n",
       "      <th>CREDIT_SOCRE</th>\n",
       "      <th>AREA</th>\n",
       "    </tr>\n",
       "  </thead>\n",
       "  <tbody>\n",
       "    <tr>\n",
       "      <th>0</th>\n",
       "      <td>取引先番号</td>\n",
       "      <td>取引先名称</td>\n",
       "      <td>与信スコア</td>\n",
       "      <td>都道府県</td>\n",
       "    </tr>\n",
       "    <tr>\n",
       "      <th>1</th>\n",
       "      <td>CUS00002</td>\n",
       "      <td>○○○01株式会社</td>\n",
       "      <td>28</td>\n",
       "      <td>新潟県</td>\n",
       "    </tr>\n",
       "    <tr>\n",
       "      <th>2</th>\n",
       "      <td>CUS00003</td>\n",
       "      <td>○○○02株式会社</td>\n",
       "      <td>13</td>\n",
       "      <td>島根県</td>\n",
       "    </tr>\n",
       "    <tr>\n",
       "      <th>3</th>\n",
       "      <td>CUS00006</td>\n",
       "      <td>合同会社○○○03</td>\n",
       "      <td>4</td>\n",
       "      <td>福井県</td>\n",
       "    </tr>\n",
       "    <tr>\n",
       "      <th>4</th>\n",
       "      <td>CUS00010</td>\n",
       "      <td>合同会社○○○04</td>\n",
       "      <td>27</td>\n",
       "      <td>岐阜県</td>\n",
       "    </tr>\n",
       "  </tbody>\n",
       "</table>\n",
       "</div>"
      ],
      "text/plain": [
       "  CUSTOMER_NUMBER CUSTOMER_NAME CREDIT_SOCRE  AREA\n",
       "0           取引先番号         取引先名称        与信スコア  都道府県\n",
       "1        CUS00002     ○○○01株式会社           28   新潟県\n",
       "2        CUS00003     ○○○02株式会社           13   島根県\n",
       "3        CUS00006     合同会社○○○03            4   福井県\n",
       "4        CUS00010     合同会社○○○04           27   岐阜県"
      ]
     },
     "execution_count": 5,
     "metadata": {},
     "output_type": "execute_result"
    }
   ],
   "source": [
    "import pandas as pd\n",
    "file_location = \"D:/study/データ加工_1/DATA/\"\n",
    "customer = pd.read_csv(file_location + \"customer.csv\",\n",
    "                       names=('CUSTOMER_NUMBER','CUSTOMER_NAME','CREDIT_SOCRE','AREA') , # nameing  columns\n",
    "                       header=0 # ignore header  1 = on , 0 = off\n",
    ")         \n",
    "customer.head()"
   ]
  },
  {
   "cell_type": "code",
   "execution_count": 1,
   "metadata": {},
   "outputs": [
    {
     "data": {
      "text/html": [
       "<div>\n",
       "<style scoped>\n",
       "    .dataframe tbody tr th:only-of-type {\n",
       "        vertical-align: middle;\n",
       "    }\n",
       "\n",
       "    .dataframe tbody tr th {\n",
       "        vertical-align: top;\n",
       "    }\n",
       "\n",
       "    .dataframe thead th {\n",
       "        text-align: right;\n",
       "    }\n",
       "</style>\n",
       "<table border=\"1\" class=\"dataframe\">\n",
       "  <thead>\n",
       "    <tr style=\"text-align: right;\">\n",
       "      <th></th>\n",
       "      <th>MAKER_NUMBER</th>\n",
       "      <th>MAKER_COMPANY_NAME</th>\n",
       "    </tr>\n",
       "  </thead>\n",
       "  <tbody>\n",
       "    <tr>\n",
       "      <th>0</th>\n",
       "      <td>MKR003</td>\n",
       "      <td>和田工業株式会社</td>\n",
       "    </tr>\n",
       "    <tr>\n",
       "      <th>1</th>\n",
       "      <td>MKR004</td>\n",
       "      <td>株式会社ナイスパーツ</td>\n",
       "    </tr>\n",
       "    <tr>\n",
       "      <th>2</th>\n",
       "      <td>MKR004</td>\n",
       "      <td>株式会社ナイスパーツ</td>\n",
       "    </tr>\n",
       "    <tr>\n",
       "      <th>3</th>\n",
       "      <td>MKR002</td>\n",
       "      <td>有限会社グッドマシーン</td>\n",
       "    </tr>\n",
       "    <tr>\n",
       "      <th>4</th>\n",
       "      <td>MKR002</td>\n",
       "      <td>有限会社グッドマシーン</td>\n",
       "    </tr>\n",
       "  </tbody>\n",
       "</table>\n",
       "</div>"
      ],
      "text/plain": [
       "  MAKER_NUMBER MAKER_COMPANY_NAME\n",
       "0       MKR003           和田工業株式会社\n",
       "1       MKR004         株式会社ナイスパーツ\n",
       "2       MKR004         株式会社ナイスパーツ\n",
       "3       MKR002        有限会社グッドマシーン\n",
       "4       MKR002        有限会社グッドマシーン"
      ]
     },
     "execution_count": 1,
     "metadata": {},
     "output_type": "execute_result"
    }
   ],
   "source": [
    "import pandas as pd\n",
    "file_location = \"D:/AI academic/\"\n",
    "customer = pd.read_csv(file_location + \"company_name.csv\",\n",
    "                       names=('MAKER_NUMBER','MAKER_COMPANY_NAME') , # nameing  columns\n",
    "                       header=1 # ignore header\n",
    ")         \n",
    "customer.head()"
   ]
  }
 ],
 "metadata": {
  "kernelspec": {
   "display_name": "Python 3.10.7 64-bit",
   "language": "python",
   "name": "python3"
  },
  "language_info": {
   "codemirror_mode": {
    "name": "ipython",
    "version": 3
   },
   "file_extension": ".py",
   "mimetype": "text/x-python",
   "name": "python",
   "nbconvert_exporter": "python",
   "pygments_lexer": "ipython3",
   "version": "3.10.7"
  },
  "orig_nbformat": 4,
  "vscode": {
   "interpreter": {
    "hash": "3e748360335f2bf9c5c12ffe143cd93812385ddcb6c3d461a4ee3fa3233acffe"
   }
  }
 },
 "nbformat": 4,
 "nbformat_minor": 2
}
